{
 "cells": [
  {
   "cell_type": "markdown",
   "metadata": {},
   "source": [
    "# Twitter sentiment analysis"
   ]
  },
  {
   "cell_type": "code",
   "execution_count": 1,
   "metadata": {},
   "outputs": [
    {
     "name": "stdout",
     "output_type": "stream",
     "text": [
      "Collecting tweepy\n",
      "  Downloading tweepy-3.9.0-py2.py3-none-any.whl (30 kB)\n",
      "Collecting requests-oauthlib>=0.7.0\n",
      "  Downloading requests_oauthlib-1.3.0-py2.py3-none-any.whl (23 kB)\n",
      "Requirement already satisfied: six>=1.10.0 in c:\\programdata\\anaconda3\\lib\\site-packages (from tweepy) (1.14.0)\n",
      "Requirement already satisfied: requests[socks]>=2.11.1 in c:\\programdata\\anaconda3\\lib\\site-packages (from tweepy) (2.22.0)\n",
      "Collecting oauthlib>=3.0.0\n",
      "  Downloading oauthlib-3.1.0-py2.py3-none-any.whl (147 kB)\n",
      "Requirement already satisfied: chardet<3.1.0,>=3.0.2 in c:\\programdata\\anaconda3\\lib\\site-packages (from requests[socks]>=2.11.1->tweepy) (3.0.4)\n",
      "Requirement already satisfied: urllib3!=1.25.0,!=1.25.1,<1.26,>=1.21.1 in c:\\programdata\\anaconda3\\lib\\site-packages (from requests[socks]>=2.11.1->tweepy) (1.25.8)\n",
      "Requirement already satisfied: idna<2.9,>=2.5 in c:\\programdata\\anaconda3\\lib\\site-packages (from requests[socks]>=2.11.1->tweepy) (2.8)\n",
      "Requirement already satisfied: certifi>=2017.4.17 in c:\\programdata\\anaconda3\\lib\\site-packages (from requests[socks]>=2.11.1->tweepy) (2019.11.28)\n",
      "Requirement already satisfied: PySocks!=1.5.7,>=1.5.6; extra == \"socks\" in c:\\programdata\\anaconda3\\lib\\site-packages (from requests[socks]>=2.11.1->tweepy) (1.7.1)\n",
      "Installing collected packages: oauthlib, requests-oauthlib, tweepy\n",
      "Successfully installed oauthlib-3.1.0 requests-oauthlib-1.3.0 tweepy-3.9.0\n"
     ]
    }
   ],
   "source": [
    "!pip install tweepy"
   ]
  },
  {
   "cell_type": "code",
   "execution_count": 3,
   "metadata": {},
   "outputs": [
    {
     "name": "stdout",
     "output_type": "stream",
     "text": [
      "Requirement already satisfied: openpyxl in c:\\programdata\\anaconda3\\lib\\site-packages (3.0.3)\n",
      "Requirement already satisfied: et-xmlfile in c:\\programdata\\anaconda3\\lib\\site-packages (from openpyxl) (1.0.1)\n",
      "Requirement already satisfied: jdcal in c:\\programdata\\anaconda3\\lib\\site-packages (from openpyxl) (1.4.1)\n"
     ]
    }
   ],
   "source": [
    "!pip install openpyxl"
   ]
  },
  {
   "cell_type": "code",
   "execution_count": 4,
   "metadata": {},
   "outputs": [],
   "source": [
    "import numpy as np\n",
    "import pandas as pd\n",
    "import tweepy\n",
    "import json\n",
    "from tweepy import OAuthHandler"
   ]
  },
  {
   "cell_type": "code",
   "execution_count": 5,
   "metadata": {},
   "outputs": [],
   "source": [
    "consumer_key = \"P2pVjb1h5ZseVmdxxLvhKoBB0\"\n",
    "consumer_secret = \"OPKfEx0GrMnZ15OyHKSewLiPz899cknkWRzczWfZ22DTSzy0YC\"\n",
    "access_token = \"1323152692391260160-tNullVM94S8CnhKTPVKwhxtItktWfu\"\n",
    "access_token_secret = \"mdADh9N6TKR3Rn2KiOxHhXABXR5Bd4MjFwY0LXCqDxrpl\""
   ]
  },
  {
   "cell_type": "code",
   "execution_count": 6,
   "metadata": {},
   "outputs": [],
   "source": [
    "auth = tweepy.OAuthHandler( consumer_key , consumer_secret )\n",
    "auth.set_access_token( access_token , access_token_secret )\n",
    "api = tweepy.API(auth)"
   ]
  },
  {
   "cell_type": "code",
   "execution_count": 7,
   "metadata": {},
   "outputs": [],
   "source": [
    "query = \"DC winning IPL\""
   ]
  },
  {
   "cell_type": "code",
   "execution_count": 8,
   "metadata": {},
   "outputs": [
    {
     "name": "stdout",
     "output_type": "stream",
     "text": [
      "Status(_api=<tweepy.api.API object at 0x0000015AE2874088>, _json={'created_at': 'Tue Nov 03 14:02:19 +0000 2020', 'id': 1323626564278341632, 'id_str': '1323626564278341632', 'full_text': 'In IPL History DC has the worst winning percentage if we exclude the teams which no longer exists. \\n\\nand if we include all the teams \\n\\nKochi Tuskers Kerala \\nDeccan Chargers \\nPune Warriors India\\n\\nthese three are the teams to whom Dc have overtaken\\n\\nSource: Times of India', 'truncated': False, 'display_text_range': [0, 270], 'entities': {'hashtags': [], 'symbols': [], 'user_mentions': [], 'urls': []}, 'metadata': {'iso_language_code': 'en', 'result_type': 'recent'}, 'source': '<a href=\"https://mobile.twitter.com\" rel=\"nofollow\">Twitter Web App</a>', 'in_reply_to_status_id': None, 'in_reply_to_status_id_str': None, 'in_reply_to_user_id': None, 'in_reply_to_user_id_str': None, 'in_reply_to_screen_name': None, 'user': {'id': 1300264244772962304, 'id_str': '1300264244772962304', 'name': 'Frustrated Krishna ( a senseless emoji )', 'screen_name': 'imvashukrishna', 'location': 'Mars 🛸', 'description': 'Reality show script writer 😗✌️\\n\\nFan acc of  - @imkrishnavashu', 'url': None, 'entities': {'description': {'urls': []}}, 'protected': False, 'followers_count': 224, 'friends_count': 102, 'listed_count': 1, 'created_at': 'Mon Aug 31 02:49:28 +0000 2020', 'favourites_count': 15437, 'utc_offset': None, 'time_zone': None, 'geo_enabled': False, 'verified': False, 'statuses_count': 10734, 'lang': None, 'contributors_enabled': False, 'is_translator': False, 'is_translation_enabled': False, 'profile_background_color': 'F5F8FA', 'profile_background_image_url': None, 'profile_background_image_url_https': None, 'profile_background_tile': False, 'profile_image_url': 'http://pbs.twimg.com/profile_images/1303231241181827073/V8hbTSj2_normal.jpg', 'profile_image_url_https': 'https://pbs.twimg.com/profile_images/1303231241181827073/V8hbTSj2_normal.jpg', 'profile_banner_url': 'https://pbs.twimg.com/profile_banners/1300264244772962304/1600674065', 'profile_link_color': '1DA1F2', 'profile_sidebar_border_color': 'C0DEED', 'profile_sidebar_fill_color': 'DDEEF6', 'profile_text_color': '333333', 'profile_use_background_image': True, 'has_extended_profile': True, 'default_profile': True, 'default_profile_image': False, 'following': False, 'follow_request_sent': False, 'notifications': False, 'translator_type': 'none'}, 'geo': None, 'coordinates': None, 'place': None, 'contributors': None, 'is_quote_status': False, 'retweet_count': 2, 'favorite_count': 5, 'favorited': False, 'retweeted': False, 'lang': 'en'}, created_at=datetime.datetime(2020, 11, 3, 14, 2, 19), id=1323626564278341632, id_str='1323626564278341632', full_text='In IPL History DC has the worst winning percentage if we exclude the teams which no longer exists. \\n\\nand if we include all the teams \\n\\nKochi Tuskers Kerala \\nDeccan Chargers \\nPune Warriors India\\n\\nthese three are the teams to whom Dc have overtaken\\n\\nSource: Times of India', truncated=False, display_text_range=[0, 270], entities={'hashtags': [], 'symbols': [], 'user_mentions': [], 'urls': []}, metadata={'iso_language_code': 'en', 'result_type': 'recent'}, source='Twitter Web App', source_url='https://mobile.twitter.com', in_reply_to_status_id=None, in_reply_to_status_id_str=None, in_reply_to_user_id=None, in_reply_to_user_id_str=None, in_reply_to_screen_name=None, author=User(_api=<tweepy.api.API object at 0x0000015AE2874088>, _json={'id': 1300264244772962304, 'id_str': '1300264244772962304', 'name': 'Frustrated Krishna ( a senseless emoji )', 'screen_name': 'imvashukrishna', 'location': 'Mars 🛸', 'description': 'Reality show script writer 😗✌️\\n\\nFan acc of  - @imkrishnavashu', 'url': None, 'entities': {'description': {'urls': []}}, 'protected': False, 'followers_count': 224, 'friends_count': 102, 'listed_count': 1, 'created_at': 'Mon Aug 31 02:49:28 +0000 2020', 'favourites_count': 15437, 'utc_offset': None, 'time_zone': None, 'geo_enabled': False, 'verified': False, 'statuses_count': 10734, 'lang': None, 'contributors_enabled': False, 'is_translator': False, 'is_translation_enabled': False, 'profile_background_color': 'F5F8FA', 'profile_background_image_url': None, 'profile_background_image_url_https': None, 'profile_background_tile': False, 'profile_image_url': 'http://pbs.twimg.com/profile_images/1303231241181827073/V8hbTSj2_normal.jpg', 'profile_image_url_https': 'https://pbs.twimg.com/profile_images/1303231241181827073/V8hbTSj2_normal.jpg', 'profile_banner_url': 'https://pbs.twimg.com/profile_banners/1300264244772962304/1600674065', 'profile_link_color': '1DA1F2', 'profile_sidebar_border_color': 'C0DEED', 'profile_sidebar_fill_color': 'DDEEF6', 'profile_text_color': '333333', 'profile_use_background_image': True, 'has_extended_profile': True, 'default_profile': True, 'default_profile_image': False, 'following': False, 'follow_request_sent': False, 'notifications': False, 'translator_type': 'none'}, id=1300264244772962304, id_str='1300264244772962304', name='Frustrated Krishna ( a senseless emoji )', screen_name='imvashukrishna', location='Mars 🛸', description='Reality show script writer 😗✌️\\n\\nFan acc of  - @imkrishnavashu', url=None, entities={'description': {'urls': []}}, protected=False, followers_count=224, friends_count=102, listed_count=1, created_at=datetime.datetime(2020, 8, 31, 2, 49, 28), favourites_count=15437, utc_offset=None, time_zone=None, geo_enabled=False, verified=False, statuses_count=10734, lang=None, contributors_enabled=False, is_translator=False, is_translation_enabled=False, profile_background_color='F5F8FA', profile_background_image_url=None, profile_background_image_url_https=None, profile_background_tile=False, profile_image_url='http://pbs.twimg.com/profile_images/1303231241181827073/V8hbTSj2_normal.jpg', profile_image_url_https='https://pbs.twimg.com/profile_images/1303231241181827073/V8hbTSj2_normal.jpg', profile_banner_url='https://pbs.twimg.com/profile_banners/1300264244772962304/1600674065', profile_link_color='1DA1F2', profile_sidebar_border_color='C0DEED', profile_sidebar_fill_color='DDEEF6', profile_text_color='333333', profile_use_background_image=True, has_extended_profile=True, default_profile=True, default_profile_image=False, following=False, follow_request_sent=False, notifications=False, translator_type='none'), user=User(_api=<tweepy.api.API object at 0x0000015AE2874088>, _json={'id': 1300264244772962304, 'id_str': '1300264244772962304', 'name': 'Frustrated Krishna ( a senseless emoji )', 'screen_name': 'imvashukrishna', 'location': 'Mars 🛸', 'description': 'Reality show script writer 😗✌️\\n\\nFan acc of  - @imkrishnavashu', 'url': None, 'entities': {'description': {'urls': []}}, 'protected': False, 'followers_count': 224, 'friends_count': 102, 'listed_count': 1, 'created_at': 'Mon Aug 31 02:49:28 +0000 2020', 'favourites_count': 15437, 'utc_offset': None, 'time_zone': None, 'geo_enabled': False, 'verified': False, 'statuses_count': 10734, 'lang': None, 'contributors_enabled': False, 'is_translator': False, 'is_translation_enabled': False, 'profile_background_color': 'F5F8FA', 'profile_background_image_url': None, 'profile_background_image_url_https': None, 'profile_background_tile': False, 'profile_image_url': 'http://pbs.twimg.com/profile_images/1303231241181827073/V8hbTSj2_normal.jpg', 'profile_image_url_https': 'https://pbs.twimg.com/profile_images/1303231241181827073/V8hbTSj2_normal.jpg', 'profile_banner_url': 'https://pbs.twimg.com/profile_banners/1300264244772962304/1600674065', 'profile_link_color': '1DA1F2', 'profile_sidebar_border_color': 'C0DEED', 'profile_sidebar_fill_color': 'DDEEF6', 'profile_text_color': '333333', 'profile_use_background_image': True, 'has_extended_profile': True, 'default_profile': True, 'default_profile_image': False, 'following': False, 'follow_request_sent': False, 'notifications': False, 'translator_type': 'none'}, id=1300264244772962304, id_str='1300264244772962304', name='Frustrated Krishna ( a senseless emoji )', screen_name='imvashukrishna', location='Mars 🛸', description='Reality show script writer 😗✌️\\n\\nFan acc of  - @imkrishnavashu', url=None, entities={'description': {'urls': []}}, protected=False, followers_count=224, friends_count=102, listed_count=1, created_at=datetime.datetime(2020, 8, 31, 2, 49, 28), favourites_count=15437, utc_offset=None, time_zone=None, geo_enabled=False, verified=False, statuses_count=10734, lang=None, contributors_enabled=False, is_translator=False, is_translation_enabled=False, profile_background_color='F5F8FA', profile_background_image_url=None, profile_background_image_url_https=None, profile_background_tile=False, profile_image_url='http://pbs.twimg.com/profile_images/1303231241181827073/V8hbTSj2_normal.jpg', profile_image_url_https='https://pbs.twimg.com/profile_images/1303231241181827073/V8hbTSj2_normal.jpg', profile_banner_url='https://pbs.twimg.com/profile_banners/1300264244772962304/1600674065', profile_link_color='1DA1F2', profile_sidebar_border_color='C0DEED', profile_sidebar_fill_color='DDEEF6', profile_text_color='333333', profile_use_background_image=True, has_extended_profile=True, default_profile=True, default_profile_image=False, following=False, follow_request_sent=False, notifications=False, translator_type='none'), geo=None, coordinates=None, place=None, contributors=None, is_quote_status=False, retweet_count=2, favorite_count=5, favorited=False, retweeted=False, lang='en') \n",
      "\n",
      ".....................................\n",
      "\n",
      "Status(_api=<tweepy.api.API object at 0x0000015AE2874088>, _json={'created_at': 'Tue Nov 03 08:30:28 +0000 2020', 'id': 1323543050832863232, 'id_str': '1323543050832863232', 'full_text': 'Rcb thrashed kkr twice this season, mumbai has a sheer dominance over kkr and dc has a winning momentum. I think every team wants kkr to face In the playoffs. #MumbaiIndians #mivssrh #SRHvMI #SRHvsMI #SRH @CricCrazyJohns @mufaddal_vohra @IPL @cricketaakash', 'truncated': False, 'display_text_range': [0, 256], 'entities': {'hashtags': [{'text': 'MumbaiIndians', 'indices': [159, 173]}, {'text': 'mivssrh', 'indices': [174, 182]}, {'text': 'SRHvMI', 'indices': [183, 190]}, {'text': 'SRHvsMI', 'indices': [191, 199]}, {'text': 'SRH', 'indices': [200, 204]}], 'symbols': [], 'user_mentions': [{'screen_name': 'CricCrazyJohns', 'name': 'Johns.', 'id': 743735095308099585, 'id_str': '743735095308099585', 'indices': [205, 220]}, {'screen_name': 'mufaddal_vohra', 'name': 'Mufaddal Vohra', 'id': 3133996860, 'id_str': '3133996860', 'indices': [221, 236]}, {'screen_name': 'IPL', 'name': 'IndianPremierLeague', 'id': 15639696, 'id_str': '15639696', 'indices': [237, 241]}, {'screen_name': 'cricketaakash', 'name': 'Aakash Chopra', 'id': 70663487, 'id_str': '70663487', 'indices': [242, 256]}], 'urls': []}, 'metadata': {'iso_language_code': 'en', 'result_type': 'recent'}, 'source': '<a href=\"http://twitter.com/download/android\" rel=\"nofollow\">Twitter for Android</a>', 'in_reply_to_status_id': None, 'in_reply_to_status_id_str': None, 'in_reply_to_user_id': None, 'in_reply_to_user_id_str': None, 'in_reply_to_screen_name': None, 'user': {'id': 2181682574, 'id_str': '2181682574', 'name': 'Ayush Rungta7️⃣', 'screen_name': 'Ayushrungta22', 'location': 'Agra, India', 'description': \"Learner| Believer| Doer| #Mbbs #MedTwitter #srkfan #vk18 Cricket analyst|Love watching 🏏 Follow me for witty tweets, Bollywood and cricket related info's!\", 'url': 'https://t.co/BasYDNicq4', 'entities': {'url': {'urls': [{'url': 'https://t.co/BasYDNicq4', 'expanded_url': 'https://instagram.com/honeyrungta?igshid=1f77vlbotviy2', 'display_url': 'instagram.com/honeyrungta?ig…', 'indices': [0, 23]}]}, 'description': {'urls': []}}, 'protected': False, 'followers_count': 168, 'friends_count': 454, 'listed_count': 0, 'created_at': 'Fri Nov 08 07:23:59 +0000 2013', 'favourites_count': 10369, 'utc_offset': None, 'time_zone': None, 'geo_enabled': True, 'verified': False, 'statuses_count': 5426, 'lang': None, 'contributors_enabled': False, 'is_translator': False, 'is_translation_enabled': False, 'profile_background_color': 'C0DEED', 'profile_background_image_url': 'http://abs.twimg.com/images/themes/theme1/bg.png', 'profile_background_image_url_https': 'https://abs.twimg.com/images/themes/theme1/bg.png', 'profile_background_tile': False, 'profile_image_url': 'http://pbs.twimg.com/profile_images/1322984208852119552/anTQqheo_normal.jpg', 'profile_image_url_https': 'https://pbs.twimg.com/profile_images/1322984208852119552/anTQqheo_normal.jpg', 'profile_banner_url': 'https://pbs.twimg.com/profile_banners/2181682574/1601987312', 'profile_link_color': '1DA1F2', 'profile_sidebar_border_color': 'C0DEED', 'profile_sidebar_fill_color': 'DDEEF6', 'profile_text_color': '333333', 'profile_use_background_image': True, 'has_extended_profile': True, 'default_profile': True, 'default_profile_image': False, 'following': False, 'follow_request_sent': False, 'notifications': False, 'translator_type': 'none'}, 'geo': None, 'coordinates': None, 'place': None, 'contributors': None, 'is_quote_status': False, 'retweet_count': 0, 'favorite_count': 2, 'favorited': False, 'retweeted': False, 'lang': 'en'}, created_at=datetime.datetime(2020, 11, 3, 8, 30, 28), id=1323543050832863232, id_str='1323543050832863232', full_text='Rcb thrashed kkr twice this season, mumbai has a sheer dominance over kkr and dc has a winning momentum. I think every team wants kkr to face In the playoffs. #MumbaiIndians #mivssrh #SRHvMI #SRHvsMI #SRH @CricCrazyJohns @mufaddal_vohra @IPL @cricketaakash', truncated=False, display_text_range=[0, 256], entities={'hashtags': [{'text': 'MumbaiIndians', 'indices': [159, 173]}, {'text': 'mivssrh', 'indices': [174, 182]}, {'text': 'SRHvMI', 'indices': [183, 190]}, {'text': 'SRHvsMI', 'indices': [191, 199]}, {'text': 'SRH', 'indices': [200, 204]}], 'symbols': [], 'user_mentions': [{'screen_name': 'CricCrazyJohns', 'name': 'Johns.', 'id': 743735095308099585, 'id_str': '743735095308099585', 'indices': [205, 220]}, {'screen_name': 'mufaddal_vohra', 'name': 'Mufaddal Vohra', 'id': 3133996860, 'id_str': '3133996860', 'indices': [221, 236]}, {'screen_name': 'IPL', 'name': 'IndianPremierLeague', 'id': 15639696, 'id_str': '15639696', 'indices': [237, 241]}, {'screen_name': 'cricketaakash', 'name': 'Aakash Chopra', 'id': 70663487, 'id_str': '70663487', 'indices': [242, 256]}], 'urls': []}, metadata={'iso_language_code': 'en', 'result_type': 'recent'}, source='Twitter for Android', source_url='http://twitter.com/download/android', in_reply_to_status_id=None, in_reply_to_status_id_str=None, in_reply_to_user_id=None, in_reply_to_user_id_str=None, in_reply_to_screen_name=None, author=User(_api=<tweepy.api.API object at 0x0000015AE2874088>, _json={'id': 2181682574, 'id_str': '2181682574', 'name': 'Ayush Rungta7️⃣', 'screen_name': 'Ayushrungta22', 'location': 'Agra, India', 'description': \"Learner| Believer| Doer| #Mbbs #MedTwitter #srkfan #vk18 Cricket analyst|Love watching 🏏 Follow me for witty tweets, Bollywood and cricket related info's!\", 'url': 'https://t.co/BasYDNicq4', 'entities': {'url': {'urls': [{'url': 'https://t.co/BasYDNicq4', 'expanded_url': 'https://instagram.com/honeyrungta?igshid=1f77vlbotviy2', 'display_url': 'instagram.com/honeyrungta?ig…', 'indices': [0, 23]}]}, 'description': {'urls': []}}, 'protected': False, 'followers_count': 168, 'friends_count': 454, 'listed_count': 0, 'created_at': 'Fri Nov 08 07:23:59 +0000 2013', 'favourites_count': 10369, 'utc_offset': None, 'time_zone': None, 'geo_enabled': True, 'verified': False, 'statuses_count': 5426, 'lang': None, 'contributors_enabled': False, 'is_translator': False, 'is_translation_enabled': False, 'profile_background_color': 'C0DEED', 'profile_background_image_url': 'http://abs.twimg.com/images/themes/theme1/bg.png', 'profile_background_image_url_https': 'https://abs.twimg.com/images/themes/theme1/bg.png', 'profile_background_tile': False, 'profile_image_url': 'http://pbs.twimg.com/profile_images/1322984208852119552/anTQqheo_normal.jpg', 'profile_image_url_https': 'https://pbs.twimg.com/profile_images/1322984208852119552/anTQqheo_normal.jpg', 'profile_banner_url': 'https://pbs.twimg.com/profile_banners/2181682574/1601987312', 'profile_link_color': '1DA1F2', 'profile_sidebar_border_color': 'C0DEED', 'profile_sidebar_fill_color': 'DDEEF6', 'profile_text_color': '333333', 'profile_use_background_image': True, 'has_extended_profile': True, 'default_profile': True, 'default_profile_image': False, 'following': False, 'follow_request_sent': False, 'notifications': False, 'translator_type': 'none'}, id=2181682574, id_str='2181682574', name='Ayush Rungta7️⃣', screen_name='Ayushrungta22', location='Agra, India', description=\"Learner| Believer| Doer| #Mbbs #MedTwitter #srkfan #vk18 Cricket analyst|Love watching 🏏 Follow me for witty tweets, Bollywood and cricket related info's!\", url='https://t.co/BasYDNicq4', entities={'url': {'urls': [{'url': 'https://t.co/BasYDNicq4', 'expanded_url': 'https://instagram.com/honeyrungta?igshid=1f77vlbotviy2', 'display_url': 'instagram.com/honeyrungta?ig…', 'indices': [0, 23]}]}, 'description': {'urls': []}}, protected=False, followers_count=168, friends_count=454, listed_count=0, created_at=datetime.datetime(2013, 11, 8, 7, 23, 59), favourites_count=10369, utc_offset=None, time_zone=None, geo_enabled=True, verified=False, statuses_count=5426, lang=None, contributors_enabled=False, is_translator=False, is_translation_enabled=False, profile_background_color='C0DEED', profile_background_image_url='http://abs.twimg.com/images/themes/theme1/bg.png', profile_background_image_url_https='https://abs.twimg.com/images/themes/theme1/bg.png', profile_background_tile=False, profile_image_url='http://pbs.twimg.com/profile_images/1322984208852119552/anTQqheo_normal.jpg', profile_image_url_https='https://pbs.twimg.com/profile_images/1322984208852119552/anTQqheo_normal.jpg', profile_banner_url='https://pbs.twimg.com/profile_banners/2181682574/1601987312', profile_link_color='1DA1F2', profile_sidebar_border_color='C0DEED', profile_sidebar_fill_color='DDEEF6', profile_text_color='333333', profile_use_background_image=True, has_extended_profile=True, default_profile=True, default_profile_image=False, following=False, follow_request_sent=False, notifications=False, translator_type='none'), user=User(_api=<tweepy.api.API object at 0x0000015AE2874088>, _json={'id': 2181682574, 'id_str': '2181682574', 'name': 'Ayush Rungta7️⃣', 'screen_name': 'Ayushrungta22', 'location': 'Agra, India', 'description': \"Learner| Believer| Doer| #Mbbs #MedTwitter #srkfan #vk18 Cricket analyst|Love watching 🏏 Follow me for witty tweets, Bollywood and cricket related info's!\", 'url': 'https://t.co/BasYDNicq4', 'entities': {'url': {'urls': [{'url': 'https://t.co/BasYDNicq4', 'expanded_url': 'https://instagram.com/honeyrungta?igshid=1f77vlbotviy2', 'display_url': 'instagram.com/honeyrungta?ig…', 'indices': [0, 23]}]}, 'description': {'urls': []}}, 'protected': False, 'followers_count': 168, 'friends_count': 454, 'listed_count': 0, 'created_at': 'Fri Nov 08 07:23:59 +0000 2013', 'favourites_count': 10369, 'utc_offset': None, 'time_zone': None, 'geo_enabled': True, 'verified': False, 'statuses_count': 5426, 'lang': None, 'contributors_enabled': False, 'is_translator': False, 'is_translation_enabled': False, 'profile_background_color': 'C0DEED', 'profile_background_image_url': 'http://abs.twimg.com/images/themes/theme1/bg.png', 'profile_background_image_url_https': 'https://abs.twimg.com/images/themes/theme1/bg.png', 'profile_background_tile': False, 'profile_image_url': 'http://pbs.twimg.com/profile_images/1322984208852119552/anTQqheo_normal.jpg', 'profile_image_url_https': 'https://pbs.twimg.com/profile_images/1322984208852119552/anTQqheo_normal.jpg', 'profile_banner_url': 'https://pbs.twimg.com/profile_banners/2181682574/1601987312', 'profile_link_color': '1DA1F2', 'profile_sidebar_border_color': 'C0DEED', 'profile_sidebar_fill_color': 'DDEEF6', 'profile_text_color': '333333', 'profile_use_background_image': True, 'has_extended_profile': True, 'default_profile': True, 'default_profile_image': False, 'following': False, 'follow_request_sent': False, 'notifications': False, 'translator_type': 'none'}, id=2181682574, id_str='2181682574', name='Ayush Rungta7️⃣', screen_name='Ayushrungta22', location='Agra, India', description=\"Learner| Believer| Doer| #Mbbs #MedTwitter #srkfan #vk18 Cricket analyst|Love watching 🏏 Follow me for witty tweets, Bollywood and cricket related info's!\", url='https://t.co/BasYDNicq4', entities={'url': {'urls': [{'url': 'https://t.co/BasYDNicq4', 'expanded_url': 'https://instagram.com/honeyrungta?igshid=1f77vlbotviy2', 'display_url': 'instagram.com/honeyrungta?ig…', 'indices': [0, 23]}]}, 'description': {'urls': []}}, protected=False, followers_count=168, friends_count=454, listed_count=0, created_at=datetime.datetime(2013, 11, 8, 7, 23, 59), favourites_count=10369, utc_offset=None, time_zone=None, geo_enabled=True, verified=False, statuses_count=5426, lang=None, contributors_enabled=False, is_translator=False, is_translation_enabled=False, profile_background_color='C0DEED', profile_background_image_url='http://abs.twimg.com/images/themes/theme1/bg.png', profile_background_image_url_https='https://abs.twimg.com/images/themes/theme1/bg.png', profile_background_tile=False, profile_image_url='http://pbs.twimg.com/profile_images/1322984208852119552/anTQqheo_normal.jpg', profile_image_url_https='https://pbs.twimg.com/profile_images/1322984208852119552/anTQqheo_normal.jpg', profile_banner_url='https://pbs.twimg.com/profile_banners/2181682574/1601987312', profile_link_color='1DA1F2', profile_sidebar_border_color='C0DEED', profile_sidebar_fill_color='DDEEF6', profile_text_color='333333', profile_use_background_image=True, has_extended_profile=True, default_profile=True, default_profile_image=False, following=False, follow_request_sent=False, notifications=False, translator_type='none'), geo=None, coordinates=None, place=None, contributors=None, is_quote_status=False, retweet_count=0, favorite_count=2, favorited=False, retweeted=False, lang='en') \n",
      "\n",
      ".....................................\n",
      "\n",
      "Status(_api=<tweepy.api.API object at 0x0000015AE2874088>, _json={'created_at': 'Tue Nov 03 07:38:17 +0000 2020', 'id': 1323529918160859136, 'id_str': '1323529918160859136', 'full_text': '@IPL @DelhiCapitals @SDhawan25 @ajinkyarahane88 #DC always does a good job at bowling, it was their volatile batting that is their weakness but at the need of the hour both #ShikharDhawan and #Rahane stood up to the occasion and played a game winning knock. 💪🔥\\n\\nHope they continue to deliver this way in the #Playoffs as well.', 'truncated': False, 'display_text_range': [48, 326], 'entities': {'hashtags': [{'text': 'DC', 'indices': [48, 51]}, {'text': 'ShikharDhawan', 'indices': [173, 187]}, {'text': 'Rahane', 'indices': [192, 199]}, {'text': 'Playoffs', 'indices': [308, 317]}], 'symbols': [], 'user_mentions': [{'screen_name': 'IPL', 'name': 'IndianPremierLeague', 'id': 15639696, 'id_str': '15639696', 'indices': [0, 4]}, {'screen_name': 'DelhiCapitals', 'name': 'Delhi Capitals (Tweeting from 🇦🇪)', 'id': 176888549, 'id_str': '176888549', 'indices': [5, 19]}, {'screen_name': 'SDhawan25', 'name': 'Shikhar Dhawan', 'id': 2911000602, 'id_str': '2911000602', 'indices': [20, 30]}, {'screen_name': 'ajinkyarahane88', 'name': 'Ajinkya Rahane', 'id': 361315016, 'id_str': '361315016', 'indices': [31, 47]}], 'urls': []}, 'metadata': {'iso_language_code': 'en', 'result_type': 'recent'}, 'source': '<a href=\"http://twitter.com/download/android\" rel=\"nofollow\">Twitter for Android</a>', 'in_reply_to_status_id': 1323468499650424832, 'in_reply_to_status_id_str': '1323468499650424832', 'in_reply_to_user_id': 15639696, 'in_reply_to_user_id_str': '15639696', 'in_reply_to_screen_name': 'IPL', 'user': {'id': 972013644820041729, 'id_str': '972013644820041729', 'name': 'Aditya Singh Rawat', 'screen_name': 'Catslayer_999', 'location': 'Mumbai, India', 'description': 'CS:GO Editor @afkgaming.\\n\\nConstantly chugging or creating content, otherwise stuck between poetry and rap.\\n\\nWandering the streets of Mumbai. #SidhePahadSe', 'url': 'https://t.co/pWU2yIFsae', 'entities': {'url': {'urls': [{'url': 'https://t.co/pWU2yIFsae', 'expanded_url': 'https://afkgaming.com/user/Catslayer', 'display_url': 'afkgaming.com/user/Catslayer', 'indices': [0, 23]}]}, 'description': {'urls': []}}, 'protected': False, 'followers_count': 183, 'friends_count': 123, 'listed_count': 1, 'created_at': 'Fri Mar 09 07:38:06 +0000 2018', 'favourites_count': 4134, 'utc_offset': None, 'time_zone': None, 'geo_enabled': True, 'verified': False, 'statuses_count': 2546, 'lang': None, 'contributors_enabled': False, 'is_translator': False, 'is_translation_enabled': False, 'profile_background_color': '000000', 'profile_background_image_url': 'http://abs.twimg.com/images/themes/theme1/bg.png', 'profile_background_image_url_https': 'https://abs.twimg.com/images/themes/theme1/bg.png', 'profile_background_tile': False, 'profile_image_url': 'http://pbs.twimg.com/profile_images/1024254698365186048/_rinLK1r_normal.jpg', 'profile_image_url_https': 'https://pbs.twimg.com/profile_images/1024254698365186048/_rinLK1r_normal.jpg', 'profile_banner_url': 'https://pbs.twimg.com/profile_banners/972013644820041729/1521200507', 'profile_link_color': '1B95E0', 'profile_sidebar_border_color': '000000', 'profile_sidebar_fill_color': '000000', 'profile_text_color': '000000', 'profile_use_background_image': False, 'has_extended_profile': True, 'default_profile': False, 'default_profile_image': False, 'following': False, 'follow_request_sent': False, 'notifications': False, 'translator_type': 'none'}, 'geo': None, 'coordinates': None, 'place': None, 'contributors': None, 'is_quote_status': False, 'retweet_count': 0, 'favorite_count': 3, 'favorited': False, 'retweeted': False, 'lang': 'en'}, created_at=datetime.datetime(2020, 11, 3, 7, 38, 17), id=1323529918160859136, id_str='1323529918160859136', full_text='@IPL @DelhiCapitals @SDhawan25 @ajinkyarahane88 #DC always does a good job at bowling, it was their volatile batting that is their weakness but at the need of the hour both #ShikharDhawan and #Rahane stood up to the occasion and played a game winning knock. 💪🔥\\n\\nHope they continue to deliver this way in the #Playoffs as well.', truncated=False, display_text_range=[48, 326], entities={'hashtags': [{'text': 'DC', 'indices': [48, 51]}, {'text': 'ShikharDhawan', 'indices': [173, 187]}, {'text': 'Rahane', 'indices': [192, 199]}, {'text': 'Playoffs', 'indices': [308, 317]}], 'symbols': [], 'user_mentions': [{'screen_name': 'IPL', 'name': 'IndianPremierLeague', 'id': 15639696, 'id_str': '15639696', 'indices': [0, 4]}, {'screen_name': 'DelhiCapitals', 'name': 'Delhi Capitals (Tweeting from 🇦🇪)', 'id': 176888549, 'id_str': '176888549', 'indices': [5, 19]}, {'screen_name': 'SDhawan25', 'name': 'Shikhar Dhawan', 'id': 2911000602, 'id_str': '2911000602', 'indices': [20, 30]}, {'screen_name': 'ajinkyarahane88', 'name': 'Ajinkya Rahane', 'id': 361315016, 'id_str': '361315016', 'indices': [31, 47]}], 'urls': []}, metadata={'iso_language_code': 'en', 'result_type': 'recent'}, source='Twitter for Android', source_url='http://twitter.com/download/android', in_reply_to_status_id=1323468499650424832, in_reply_to_status_id_str='1323468499650424832', in_reply_to_user_id=15639696, in_reply_to_user_id_str='15639696', in_reply_to_screen_name='IPL', author=User(_api=<tweepy.api.API object at 0x0000015AE2874088>, _json={'id': 972013644820041729, 'id_str': '972013644820041729', 'name': 'Aditya Singh Rawat', 'screen_name': 'Catslayer_999', 'location': 'Mumbai, India', 'description': 'CS:GO Editor @afkgaming.\\n\\nConstantly chugging or creating content, otherwise stuck between poetry and rap.\\n\\nWandering the streets of Mumbai. #SidhePahadSe', 'url': 'https://t.co/pWU2yIFsae', 'entities': {'url': {'urls': [{'url': 'https://t.co/pWU2yIFsae', 'expanded_url': 'https://afkgaming.com/user/Catslayer', 'display_url': 'afkgaming.com/user/Catslayer', 'indices': [0, 23]}]}, 'description': {'urls': []}}, 'protected': False, 'followers_count': 183, 'friends_count': 123, 'listed_count': 1, 'created_at': 'Fri Mar 09 07:38:06 +0000 2018', 'favourites_count': 4134, 'utc_offset': None, 'time_zone': None, 'geo_enabled': True, 'verified': False, 'statuses_count': 2546, 'lang': None, 'contributors_enabled': False, 'is_translator': False, 'is_translation_enabled': False, 'profile_background_color': '000000', 'profile_background_image_url': 'http://abs.twimg.com/images/themes/theme1/bg.png', 'profile_background_image_url_https': 'https://abs.twimg.com/images/themes/theme1/bg.png', 'profile_background_tile': False, 'profile_image_url': 'http://pbs.twimg.com/profile_images/1024254698365186048/_rinLK1r_normal.jpg', 'profile_image_url_https': 'https://pbs.twimg.com/profile_images/1024254698365186048/_rinLK1r_normal.jpg', 'profile_banner_url': 'https://pbs.twimg.com/profile_banners/972013644820041729/1521200507', 'profile_link_color': '1B95E0', 'profile_sidebar_border_color': '000000', 'profile_sidebar_fill_color': '000000', 'profile_text_color': '000000', 'profile_use_background_image': False, 'has_extended_profile': True, 'default_profile': False, 'default_profile_image': False, 'following': False, 'follow_request_sent': False, 'notifications': False, 'translator_type': 'none'}, id=972013644820041729, id_str='972013644820041729', name='Aditya Singh Rawat', screen_name='Catslayer_999', location='Mumbai, India', description='CS:GO Editor @afkgaming.\\n\\nConstantly chugging or creating content, otherwise stuck between poetry and rap.\\n\\nWandering the streets of Mumbai. #SidhePahadSe', url='https://t.co/pWU2yIFsae', entities={'url': {'urls': [{'url': 'https://t.co/pWU2yIFsae', 'expanded_url': 'https://afkgaming.com/user/Catslayer', 'display_url': 'afkgaming.com/user/Catslayer', 'indices': [0, 23]}]}, 'description': {'urls': []}}, protected=False, followers_count=183, friends_count=123, listed_count=1, created_at=datetime.datetime(2018, 3, 9, 7, 38, 6), favourites_count=4134, utc_offset=None, time_zone=None, geo_enabled=True, verified=False, statuses_count=2546, lang=None, contributors_enabled=False, is_translator=False, is_translation_enabled=False, profile_background_color='000000', profile_background_image_url='http://abs.twimg.com/images/themes/theme1/bg.png', profile_background_image_url_https='https://abs.twimg.com/images/themes/theme1/bg.png', profile_background_tile=False, profile_image_url='http://pbs.twimg.com/profile_images/1024254698365186048/_rinLK1r_normal.jpg', profile_image_url_https='https://pbs.twimg.com/profile_images/1024254698365186048/_rinLK1r_normal.jpg', profile_banner_url='https://pbs.twimg.com/profile_banners/972013644820041729/1521200507', profile_link_color='1B95E0', profile_sidebar_border_color='000000', profile_sidebar_fill_color='000000', profile_text_color='000000', profile_use_background_image=False, has_extended_profile=True, default_profile=False, default_profile_image=False, following=False, follow_request_sent=False, notifications=False, translator_type='none'), user=User(_api=<tweepy.api.API object at 0x0000015AE2874088>, _json={'id': 972013644820041729, 'id_str': '972013644820041729', 'name': 'Aditya Singh Rawat', 'screen_name': 'Catslayer_999', 'location': 'Mumbai, India', 'description': 'CS:GO Editor @afkgaming.\\n\\nConstantly chugging or creating content, otherwise stuck between poetry and rap.\\n\\nWandering the streets of Mumbai. #SidhePahadSe', 'url': 'https://t.co/pWU2yIFsae', 'entities': {'url': {'urls': [{'url': 'https://t.co/pWU2yIFsae', 'expanded_url': 'https://afkgaming.com/user/Catslayer', 'display_url': 'afkgaming.com/user/Catslayer', 'indices': [0, 23]}]}, 'description': {'urls': []}}, 'protected': False, 'followers_count': 183, 'friends_count': 123, 'listed_count': 1, 'created_at': 'Fri Mar 09 07:38:06 +0000 2018', 'favourites_count': 4134, 'utc_offset': None, 'time_zone': None, 'geo_enabled': True, 'verified': False, 'statuses_count': 2546, 'lang': None, 'contributors_enabled': False, 'is_translator': False, 'is_translation_enabled': False, 'profile_background_color': '000000', 'profile_background_image_url': 'http://abs.twimg.com/images/themes/theme1/bg.png', 'profile_background_image_url_https': 'https://abs.twimg.com/images/themes/theme1/bg.png', 'profile_background_tile': False, 'profile_image_url': 'http://pbs.twimg.com/profile_images/1024254698365186048/_rinLK1r_normal.jpg', 'profile_image_url_https': 'https://pbs.twimg.com/profile_images/1024254698365186048/_rinLK1r_normal.jpg', 'profile_banner_url': 'https://pbs.twimg.com/profile_banners/972013644820041729/1521200507', 'profile_link_color': '1B95E0', 'profile_sidebar_border_color': '000000', 'profile_sidebar_fill_color': '000000', 'profile_text_color': '000000', 'profile_use_background_image': False, 'has_extended_profile': True, 'default_profile': False, 'default_profile_image': False, 'following': False, 'follow_request_sent': False, 'notifications': False, 'translator_type': 'none'}, id=972013644820041729, id_str='972013644820041729', name='Aditya Singh Rawat', screen_name='Catslayer_999', location='Mumbai, India', description='CS:GO Editor @afkgaming.\\n\\nConstantly chugging or creating content, otherwise stuck between poetry and rap.\\n\\nWandering the streets of Mumbai. #SidhePahadSe', url='https://t.co/pWU2yIFsae', entities={'url': {'urls': [{'url': 'https://t.co/pWU2yIFsae', 'expanded_url': 'https://afkgaming.com/user/Catslayer', 'display_url': 'afkgaming.com/user/Catslayer', 'indices': [0, 23]}]}, 'description': {'urls': []}}, protected=False, followers_count=183, friends_count=123, listed_count=1, created_at=datetime.datetime(2018, 3, 9, 7, 38, 6), favourites_count=4134, utc_offset=None, time_zone=None, geo_enabled=True, verified=False, statuses_count=2546, lang=None, contributors_enabled=False, is_translator=False, is_translation_enabled=False, profile_background_color='000000', profile_background_image_url='http://abs.twimg.com/images/themes/theme1/bg.png', profile_background_image_url_https='https://abs.twimg.com/images/themes/theme1/bg.png', profile_background_tile=False, profile_image_url='http://pbs.twimg.com/profile_images/1024254698365186048/_rinLK1r_normal.jpg', profile_image_url_https='https://pbs.twimg.com/profile_images/1024254698365186048/_rinLK1r_normal.jpg', profile_banner_url='https://pbs.twimg.com/profile_banners/972013644820041729/1521200507', profile_link_color='1B95E0', profile_sidebar_border_color='000000', profile_sidebar_fill_color='000000', profile_text_color='000000', profile_use_background_image=False, has_extended_profile=True, default_profile=False, default_profile_image=False, following=False, follow_request_sent=False, notifications=False, translator_type='none'), geo=None, coordinates=None, place=None, contributors=None, is_quote_status=False, retweet_count=0, favorite_count=3, favorited=False, retweeted=False, lang='en') \n",
      "\n",
      ".....................................\n",
      "\n",
      "Status(_api=<tweepy.api.API object at 0x0000015AE2874088>, _json={'created_at': 'Tue Nov 03 07:13:44 +0000 2020', 'id': 1323523740055957506, 'id_str': '1323523740055957506', 'full_text': '@rashi_kakkar When you Switch from \\nDD to DC so that people will confuse you with IPL winning Deccan Charges, who needs a Trophy...', 'truncated': False, 'display_text_range': [14, 131], 'entities': {'hashtags': [], 'symbols': [], 'user_mentions': [{'screen_name': 'rashi_kakkar', 'name': 'Rashi', 'id': 2347300981, 'id_str': '2347300981', 'indices': [0, 13]}], 'urls': []}, 'metadata': {'iso_language_code': 'en', 'result_type': 'recent'}, 'source': '<a href=\"http://twitter.com/download/android\" rel=\"nofollow\">Twitter for Android</a>', 'in_reply_to_status_id': 1323275623608057858, 'in_reply_to_status_id_str': '1323275623608057858', 'in_reply_to_user_id': 2347300981, 'in_reply_to_user_id_str': '2347300981', 'in_reply_to_screen_name': 'rashi_kakkar', 'user': {'id': 1264389416811933696, 'id_str': '1264389416811933696', 'name': 'Param Sarvram', 'screen_name': 'ParamSarvram', 'location': 'Crest & Trough ', 'description': 'Market Analyst ।।\\nSports Enthusiast ।।\\n                     Travel ।।\\nHumour is an Art to Live not a Hive to Breed ।।', 'url': None, 'entities': {'description': {'urls': []}}, 'protected': False, 'followers_count': 33, 'friends_count': 356, 'listed_count': 0, 'created_at': 'Sun May 24 02:55:15 +0000 2020', 'favourites_count': 3612, 'utc_offset': None, 'time_zone': None, 'geo_enabled': False, 'verified': False, 'statuses_count': 3086, 'lang': None, 'contributors_enabled': False, 'is_translator': False, 'is_translation_enabled': False, 'profile_background_color': 'F5F8FA', 'profile_background_image_url': None, 'profile_background_image_url_https': None, 'profile_background_tile': False, 'profile_image_url': 'http://pbs.twimg.com/profile_images/1264389765509545984/YQF9j-2D_normal.jpg', 'profile_image_url_https': 'https://pbs.twimg.com/profile_images/1264389765509545984/YQF9j-2D_normal.jpg', 'profile_banner_url': 'https://pbs.twimg.com/profile_banners/1264389416811933696/1590335016', 'profile_link_color': '1DA1F2', 'profile_sidebar_border_color': 'C0DEED', 'profile_sidebar_fill_color': 'DDEEF6', 'profile_text_color': '333333', 'profile_use_background_image': True, 'has_extended_profile': True, 'default_profile': True, 'default_profile_image': False, 'following': False, 'follow_request_sent': False, 'notifications': False, 'translator_type': 'none'}, 'geo': None, 'coordinates': None, 'place': None, 'contributors': None, 'is_quote_status': False, 'retweet_count': 0, 'favorite_count': 0, 'favorited': False, 'retweeted': False, 'lang': 'en'}, created_at=datetime.datetime(2020, 11, 3, 7, 13, 44), id=1323523740055957506, id_str='1323523740055957506', full_text='@rashi_kakkar When you Switch from \\nDD to DC so that people will confuse you with IPL winning Deccan Charges, who needs a Trophy...', truncated=False, display_text_range=[14, 131], entities={'hashtags': [], 'symbols': [], 'user_mentions': [{'screen_name': 'rashi_kakkar', 'name': 'Rashi', 'id': 2347300981, 'id_str': '2347300981', 'indices': [0, 13]}], 'urls': []}, metadata={'iso_language_code': 'en', 'result_type': 'recent'}, source='Twitter for Android', source_url='http://twitter.com/download/android', in_reply_to_status_id=1323275623608057858, in_reply_to_status_id_str='1323275623608057858', in_reply_to_user_id=2347300981, in_reply_to_user_id_str='2347300981', in_reply_to_screen_name='rashi_kakkar', author=User(_api=<tweepy.api.API object at 0x0000015AE2874088>, _json={'id': 1264389416811933696, 'id_str': '1264389416811933696', 'name': 'Param Sarvram', 'screen_name': 'ParamSarvram', 'location': 'Crest & Trough ', 'description': 'Market Analyst ।।\\nSports Enthusiast ।।\\n                     Travel ।।\\nHumour is an Art to Live not a Hive to Breed ।।', 'url': None, 'entities': {'description': {'urls': []}}, 'protected': False, 'followers_count': 33, 'friends_count': 356, 'listed_count': 0, 'created_at': 'Sun May 24 02:55:15 +0000 2020', 'favourites_count': 3612, 'utc_offset': None, 'time_zone': None, 'geo_enabled': False, 'verified': False, 'statuses_count': 3086, 'lang': None, 'contributors_enabled': False, 'is_translator': False, 'is_translation_enabled': False, 'profile_background_color': 'F5F8FA', 'profile_background_image_url': None, 'profile_background_image_url_https': None, 'profile_background_tile': False, 'profile_image_url': 'http://pbs.twimg.com/profile_images/1264389765509545984/YQF9j-2D_normal.jpg', 'profile_image_url_https': 'https://pbs.twimg.com/profile_images/1264389765509545984/YQF9j-2D_normal.jpg', 'profile_banner_url': 'https://pbs.twimg.com/profile_banners/1264389416811933696/1590335016', 'profile_link_color': '1DA1F2', 'profile_sidebar_border_color': 'C0DEED', 'profile_sidebar_fill_color': 'DDEEF6', 'profile_text_color': '333333', 'profile_use_background_image': True, 'has_extended_profile': True, 'default_profile': True, 'default_profile_image': False, 'following': False, 'follow_request_sent': False, 'notifications': False, 'translator_type': 'none'}, id=1264389416811933696, id_str='1264389416811933696', name='Param Sarvram', screen_name='ParamSarvram', location='Crest & Trough ', description='Market Analyst ।।\\nSports Enthusiast ।।\\n                     Travel ।।\\nHumour is an Art to Live not a Hive to Breed ।।', url=None, entities={'description': {'urls': []}}, protected=False, followers_count=33, friends_count=356, listed_count=0, created_at=datetime.datetime(2020, 5, 24, 2, 55, 15), favourites_count=3612, utc_offset=None, time_zone=None, geo_enabled=False, verified=False, statuses_count=3086, lang=None, contributors_enabled=False, is_translator=False, is_translation_enabled=False, profile_background_color='F5F8FA', profile_background_image_url=None, profile_background_image_url_https=None, profile_background_tile=False, profile_image_url='http://pbs.twimg.com/profile_images/1264389765509545984/YQF9j-2D_normal.jpg', profile_image_url_https='https://pbs.twimg.com/profile_images/1264389765509545984/YQF9j-2D_normal.jpg', profile_banner_url='https://pbs.twimg.com/profile_banners/1264389416811933696/1590335016', profile_link_color='1DA1F2', profile_sidebar_border_color='C0DEED', profile_sidebar_fill_color='DDEEF6', profile_text_color='333333', profile_use_background_image=True, has_extended_profile=True, default_profile=True, default_profile_image=False, following=False, follow_request_sent=False, notifications=False, translator_type='none'), user=User(_api=<tweepy.api.API object at 0x0000015AE2874088>, _json={'id': 1264389416811933696, 'id_str': '1264389416811933696', 'name': 'Param Sarvram', 'screen_name': 'ParamSarvram', 'location': 'Crest & Trough ', 'description': 'Market Analyst ।।\\nSports Enthusiast ।।\\n                     Travel ।।\\nHumour is an Art to Live not a Hive to Breed ।।', 'url': None, 'entities': {'description': {'urls': []}}, 'protected': False, 'followers_count': 33, 'friends_count': 356, 'listed_count': 0, 'created_at': 'Sun May 24 02:55:15 +0000 2020', 'favourites_count': 3612, 'utc_offset': None, 'time_zone': None, 'geo_enabled': False, 'verified': False, 'statuses_count': 3086, 'lang': None, 'contributors_enabled': False, 'is_translator': False, 'is_translation_enabled': False, 'profile_background_color': 'F5F8FA', 'profile_background_image_url': None, 'profile_background_image_url_https': None, 'profile_background_tile': False, 'profile_image_url': 'http://pbs.twimg.com/profile_images/1264389765509545984/YQF9j-2D_normal.jpg', 'profile_image_url_https': 'https://pbs.twimg.com/profile_images/1264389765509545984/YQF9j-2D_normal.jpg', 'profile_banner_url': 'https://pbs.twimg.com/profile_banners/1264389416811933696/1590335016', 'profile_link_color': '1DA1F2', 'profile_sidebar_border_color': 'C0DEED', 'profile_sidebar_fill_color': 'DDEEF6', 'profile_text_color': '333333', 'profile_use_background_image': True, 'has_extended_profile': True, 'default_profile': True, 'default_profile_image': False, 'following': False, 'follow_request_sent': False, 'notifications': False, 'translator_type': 'none'}, id=1264389416811933696, id_str='1264389416811933696', name='Param Sarvram', screen_name='ParamSarvram', location='Crest & Trough ', description='Market Analyst ।।\\nSports Enthusiast ।।\\n                     Travel ।।\\nHumour is an Art to Live not a Hive to Breed ।।', url=None, entities={'description': {'urls': []}}, protected=False, followers_count=33, friends_count=356, listed_count=0, created_at=datetime.datetime(2020, 5, 24, 2, 55, 15), favourites_count=3612, utc_offset=None, time_zone=None, geo_enabled=False, verified=False, statuses_count=3086, lang=None, contributors_enabled=False, is_translator=False, is_translation_enabled=False, profile_background_color='F5F8FA', profile_background_image_url=None, profile_background_image_url_https=None, profile_background_tile=False, profile_image_url='http://pbs.twimg.com/profile_images/1264389765509545984/YQF9j-2D_normal.jpg', profile_image_url_https='https://pbs.twimg.com/profile_images/1264389765509545984/YQF9j-2D_normal.jpg', profile_banner_url='https://pbs.twimg.com/profile_banners/1264389416811933696/1590335016', profile_link_color='1DA1F2', profile_sidebar_border_color='C0DEED', profile_sidebar_fill_color='DDEEF6', profile_text_color='333333', profile_use_background_image=True, has_extended_profile=True, default_profile=True, default_profile_image=False, following=False, follow_request_sent=False, notifications=False, translator_type='none'), geo=None, coordinates=None, place=None, contributors=None, is_quote_status=False, retweet_count=0, favorite_count=0, favorited=False, retweeted=False, lang='en') \n",
      "\n",
      ".....................................\n",
      "\n",
      "Status(_api=<tweepy.api.API object at 0x0000015AE2874088>, _json={'created_at': 'Tue Nov 03 04:22:23 +0000 2020', 'id': 1323480618651459585, 'id_str': '1323480618651459585', 'full_text': '@Trendulkar DC is winning this IPL.', 'truncated': False, 'display_text_range': [12, 35], 'entities': {'hashtags': [], 'symbols': [], 'user_mentions': [{'screen_name': 'Trendulkar', 'name': 'Trendulkar', 'id': 65851020, 'id_str': '65851020', 'indices': [0, 11]}], 'urls': []}, 'metadata': {'iso_language_code': 'en', 'result_type': 'recent'}, 'source': '<a href=\"http://twitter.com/download/iphone\" rel=\"nofollow\">Twitter for iPhone</a>', 'in_reply_to_status_id': 1323305695236648960, 'in_reply_to_status_id_str': '1323305695236648960', 'in_reply_to_user_id': 65851020, 'in_reply_to_user_id_str': '65851020', 'in_reply_to_screen_name': 'Trendulkar', 'user': {'id': 3162833732, 'id_str': '3162833732', 'name': 'Darshan Shah', 'screen_name': 'darshanshah037', 'location': 'Bengaluru, Ahmedabad, India', 'description': 'Proud Indian, want India becoming superpower, vegetarian, Engineer, optimistic, ambitious, TEST cricket lover, caring, perfectionist, love to travel.', 'url': None, 'entities': {'description': {'urls': []}}, 'protected': False, 'followers_count': 25, 'friends_count': 196, 'listed_count': 0, 'created_at': 'Sat Apr 18 17:11:28 +0000 2015', 'favourites_count': 2933, 'utc_offset': None, 'time_zone': None, 'geo_enabled': False, 'verified': False, 'statuses_count': 2357, 'lang': None, 'contributors_enabled': False, 'is_translator': False, 'is_translation_enabled': False, 'profile_background_color': 'C0DEED', 'profile_background_image_url': 'http://abs.twimg.com/images/themes/theme1/bg.png', 'profile_background_image_url_https': 'https://abs.twimg.com/images/themes/theme1/bg.png', 'profile_background_tile': False, 'profile_image_url': 'http://pbs.twimg.com/profile_images/1290900336886996994/IqYVfzIq_normal.jpg', 'profile_image_url_https': 'https://pbs.twimg.com/profile_images/1290900336886996994/IqYVfzIq_normal.jpg', 'profile_banner_url': 'https://pbs.twimg.com/profile_banners/3162833732/1581159578', 'profile_link_color': '1DA1F2', 'profile_sidebar_border_color': 'C0DEED', 'profile_sidebar_fill_color': 'DDEEF6', 'profile_text_color': '333333', 'profile_use_background_image': True, 'has_extended_profile': False, 'default_profile': True, 'default_profile_image': False, 'following': False, 'follow_request_sent': False, 'notifications': False, 'translator_type': 'none'}, 'geo': None, 'coordinates': None, 'place': None, 'contributors': None, 'is_quote_status': False, 'retweet_count': 0, 'favorite_count': 0, 'favorited': False, 'retweeted': False, 'lang': 'en'}, created_at=datetime.datetime(2020, 11, 3, 4, 22, 23), id=1323480618651459585, id_str='1323480618651459585', full_text='@Trendulkar DC is winning this IPL.', truncated=False, display_text_range=[12, 35], entities={'hashtags': [], 'symbols': [], 'user_mentions': [{'screen_name': 'Trendulkar', 'name': 'Trendulkar', 'id': 65851020, 'id_str': '65851020', 'indices': [0, 11]}], 'urls': []}, metadata={'iso_language_code': 'en', 'result_type': 'recent'}, source='Twitter for iPhone', source_url='http://twitter.com/download/iphone', in_reply_to_status_id=1323305695236648960, in_reply_to_status_id_str='1323305695236648960', in_reply_to_user_id=65851020, in_reply_to_user_id_str='65851020', in_reply_to_screen_name='Trendulkar', author=User(_api=<tweepy.api.API object at 0x0000015AE2874088>, _json={'id': 3162833732, 'id_str': '3162833732', 'name': 'Darshan Shah', 'screen_name': 'darshanshah037', 'location': 'Bengaluru, Ahmedabad, India', 'description': 'Proud Indian, want India becoming superpower, vegetarian, Engineer, optimistic, ambitious, TEST cricket lover, caring, perfectionist, love to travel.', 'url': None, 'entities': {'description': {'urls': []}}, 'protected': False, 'followers_count': 25, 'friends_count': 196, 'listed_count': 0, 'created_at': 'Sat Apr 18 17:11:28 +0000 2015', 'favourites_count': 2933, 'utc_offset': None, 'time_zone': None, 'geo_enabled': False, 'verified': False, 'statuses_count': 2357, 'lang': None, 'contributors_enabled': False, 'is_translator': False, 'is_translation_enabled': False, 'profile_background_color': 'C0DEED', 'profile_background_image_url': 'http://abs.twimg.com/images/themes/theme1/bg.png', 'profile_background_image_url_https': 'https://abs.twimg.com/images/themes/theme1/bg.png', 'profile_background_tile': False, 'profile_image_url': 'http://pbs.twimg.com/profile_images/1290900336886996994/IqYVfzIq_normal.jpg', 'profile_image_url_https': 'https://pbs.twimg.com/profile_images/1290900336886996994/IqYVfzIq_normal.jpg', 'profile_banner_url': 'https://pbs.twimg.com/profile_banners/3162833732/1581159578', 'profile_link_color': '1DA1F2', 'profile_sidebar_border_color': 'C0DEED', 'profile_sidebar_fill_color': 'DDEEF6', 'profile_text_color': '333333', 'profile_use_background_image': True, 'has_extended_profile': False, 'default_profile': True, 'default_profile_image': False, 'following': False, 'follow_request_sent': False, 'notifications': False, 'translator_type': 'none'}, id=3162833732, id_str='3162833732', name='Darshan Shah', screen_name='darshanshah037', location='Bengaluru, Ahmedabad, India', description='Proud Indian, want India becoming superpower, vegetarian, Engineer, optimistic, ambitious, TEST cricket lover, caring, perfectionist, love to travel.', url=None, entities={'description': {'urls': []}}, protected=False, followers_count=25, friends_count=196, listed_count=0, created_at=datetime.datetime(2015, 4, 18, 17, 11, 28), favourites_count=2933, utc_offset=None, time_zone=None, geo_enabled=False, verified=False, statuses_count=2357, lang=None, contributors_enabled=False, is_translator=False, is_translation_enabled=False, profile_background_color='C0DEED', profile_background_image_url='http://abs.twimg.com/images/themes/theme1/bg.png', profile_background_image_url_https='https://abs.twimg.com/images/themes/theme1/bg.png', profile_background_tile=False, profile_image_url='http://pbs.twimg.com/profile_images/1290900336886996994/IqYVfzIq_normal.jpg', profile_image_url_https='https://pbs.twimg.com/profile_images/1290900336886996994/IqYVfzIq_normal.jpg', profile_banner_url='https://pbs.twimg.com/profile_banners/3162833732/1581159578', profile_link_color='1DA1F2', profile_sidebar_border_color='C0DEED', profile_sidebar_fill_color='DDEEF6', profile_text_color='333333', profile_use_background_image=True, has_extended_profile=False, default_profile=True, default_profile_image=False, following=False, follow_request_sent=False, notifications=False, translator_type='none'), user=User(_api=<tweepy.api.API object at 0x0000015AE2874088>, _json={'id': 3162833732, 'id_str': '3162833732', 'name': 'Darshan Shah', 'screen_name': 'darshanshah037', 'location': 'Bengaluru, Ahmedabad, India', 'description': 'Proud Indian, want India becoming superpower, vegetarian, Engineer, optimistic, ambitious, TEST cricket lover, caring, perfectionist, love to travel.', 'url': None, 'entities': {'description': {'urls': []}}, 'protected': False, 'followers_count': 25, 'friends_count': 196, 'listed_count': 0, 'created_at': 'Sat Apr 18 17:11:28 +0000 2015', 'favourites_count': 2933, 'utc_offset': None, 'time_zone': None, 'geo_enabled': False, 'verified': False, 'statuses_count': 2357, 'lang': None, 'contributors_enabled': False, 'is_translator': False, 'is_translation_enabled': False, 'profile_background_color': 'C0DEED', 'profile_background_image_url': 'http://abs.twimg.com/images/themes/theme1/bg.png', 'profile_background_image_url_https': 'https://abs.twimg.com/images/themes/theme1/bg.png', 'profile_background_tile': False, 'profile_image_url': 'http://pbs.twimg.com/profile_images/1290900336886996994/IqYVfzIq_normal.jpg', 'profile_image_url_https': 'https://pbs.twimg.com/profile_images/1290900336886996994/IqYVfzIq_normal.jpg', 'profile_banner_url': 'https://pbs.twimg.com/profile_banners/3162833732/1581159578', 'profile_link_color': '1DA1F2', 'profile_sidebar_border_color': 'C0DEED', 'profile_sidebar_fill_color': 'DDEEF6', 'profile_text_color': '333333', 'profile_use_background_image': True, 'has_extended_profile': False, 'default_profile': True, 'default_profile_image': False, 'following': False, 'follow_request_sent': False, 'notifications': False, 'translator_type': 'none'}, id=3162833732, id_str='3162833732', name='Darshan Shah', screen_name='darshanshah037', location='Bengaluru, Ahmedabad, India', description='Proud Indian, want India becoming superpower, vegetarian, Engineer, optimistic, ambitious, TEST cricket lover, caring, perfectionist, love to travel.', url=None, entities={'description': {'urls': []}}, protected=False, followers_count=25, friends_count=196, listed_count=0, created_at=datetime.datetime(2015, 4, 18, 17, 11, 28), favourites_count=2933, utc_offset=None, time_zone=None, geo_enabled=False, verified=False, statuses_count=2357, lang=None, contributors_enabled=False, is_translator=False, is_translation_enabled=False, profile_background_color='C0DEED', profile_background_image_url='http://abs.twimg.com/images/themes/theme1/bg.png', profile_background_image_url_https='https://abs.twimg.com/images/themes/theme1/bg.png', profile_background_tile=False, profile_image_url='http://pbs.twimg.com/profile_images/1290900336886996994/IqYVfzIq_normal.jpg', profile_image_url_https='https://pbs.twimg.com/profile_images/1290900336886996994/IqYVfzIq_normal.jpg', profile_banner_url='https://pbs.twimg.com/profile_banners/3162833732/1581159578', profile_link_color='1DA1F2', profile_sidebar_border_color='C0DEED', profile_sidebar_fill_color='DDEEF6', profile_text_color='333333', profile_use_background_image=True, has_extended_profile=False, default_profile=True, default_profile_image=False, following=False, follow_request_sent=False, notifications=False, translator_type='none'), geo=None, coordinates=None, place=None, contributors=None, is_quote_status=False, retweet_count=0, favorite_count=0, favorited=False, retweeted=False, lang='en') \n",
      "\n",
      ".....................................\n",
      "\n",
      "Status(_api=<tweepy.api.API object at 0x0000015AE2874088>, _json={'created_at': 'Tue Nov 03 02:37:47 +0000 2020', 'id': 1323454297045159936, 'id_str': '1323454297045159936', 'full_text': 'Q. What is the beauty of IPL ?\\nA. A \"Khadoos\" Mumbaikar winning a key match for @DelhiCapitals in a crucial stand with local Gabbar against a @RCBTweets team led by a \"Dilli ka Launda\"\\n\\nMI vs DC in Qualifier 1 @ Dubai 🔥\\n\\nBlessed to start our morning 🌞 with a Rahane drive ❤ https://t.co/OlZUEk7hsn', 'truncated': False, 'display_text_range': [0, 273], 'entities': {'hashtags': [], 'symbols': [], 'user_mentions': [{'screen_name': 'DelhiCapitals', 'name': 'Delhi Capitals (Tweeting from 🇦🇪)', 'id': 176888549, 'id_str': '176888549', 'indices': [80, 94]}, {'screen_name': 'RCBTweets', 'name': 'Royal Challengers Bangalore', 'id': 70931004, 'id_str': '70931004', 'indices': [142, 152]}], 'urls': [], 'media': [{'id': 1323454186525175808, 'id_str': '1323454186525175808', 'indices': [274, 297], 'media_url': 'http://pbs.twimg.com/media/El3akhhWMAAKwW_.jpg', 'media_url_https': 'https://pbs.twimg.com/media/El3akhhWMAAKwW_.jpg', 'url': 'https://t.co/OlZUEk7hsn', 'display_url': 'pic.twitter.com/OlZUEk7hsn', 'expanded_url': 'https://twitter.com/NorthStandGang/status/1323454297045159936/photo/1', 'type': 'photo', 'sizes': {'thumb': {'w': 150, 'h': 150, 'resize': 'crop'}, 'medium': {'w': 1200, 'h': 1200, 'resize': 'fit'}, 'large': {'w': 2048, 'h': 2048, 'resize': 'fit'}, 'small': {'w': 680, 'h': 680, 'resize': 'fit'}}}]}, 'extended_entities': {'media': [{'id': 1323454186525175808, 'id_str': '1323454186525175808', 'indices': [274, 297], 'media_url': 'http://pbs.twimg.com/media/El3akhhWMAAKwW_.jpg', 'media_url_https': 'https://pbs.twimg.com/media/El3akhhWMAAKwW_.jpg', 'url': 'https://t.co/OlZUEk7hsn', 'display_url': 'pic.twitter.com/OlZUEk7hsn', 'expanded_url': 'https://twitter.com/NorthStandGang/status/1323454297045159936/photo/1', 'type': 'photo', 'sizes': {'thumb': {'w': 150, 'h': 150, 'resize': 'crop'}, 'medium': {'w': 1200, 'h': 1200, 'resize': 'fit'}, 'large': {'w': 2048, 'h': 2048, 'resize': 'fit'}, 'small': {'w': 680, 'h': 680, 'resize': 'fit'}}}]}, 'metadata': {'iso_language_code': 'en', 'result_type': 'recent'}, 'source': '<a href=\"https://mobile.twitter.com\" rel=\"nofollow\">Twitter Web App</a>', 'in_reply_to_status_id': None, 'in_reply_to_status_id_str': None, 'in_reply_to_user_id': None, 'in_reply_to_user_id_str': None, 'in_reply_to_screen_name': None, 'user': {'id': 480723747, 'id_str': '480723747', 'name': 'North Stand Gang - Wankhede', 'screen_name': 'NorthStandGang', 'location': 'Wankhede Stadium', 'description': 'We ♥️ Cricket!\\nJoin us in Level 3, North Stand, Wankhede Stadium.\\nWe cheer for India, loudest of all.\\nDM here or email thenorthstandgang@gmail.com for queries', 'url': 'https://t.co/2LULNLX2x7', 'entities': {'url': {'urls': [{'url': 'https://t.co/2LULNLX2x7', 'expanded_url': 'https://northstandgang.com', 'display_url': 'northstandgang.com', 'indices': [0, 23]}]}, 'description': {'urls': []}}, 'protected': False, 'followers_count': 8649, 'friends_count': 2487, 'listed_count': 39, 'created_at': 'Wed Feb 01 20:35:06 +0000 2012', 'favourites_count': 65671, 'utc_offset': None, 'time_zone': None, 'geo_enabled': True, 'verified': False, 'statuses_count': 45893, 'lang': None, 'contributors_enabled': False, 'is_translator': False, 'is_translation_enabled': False, 'profile_background_color': 'FFF04D', 'profile_background_image_url': 'http://abs.twimg.com/images/themes/theme19/bg.gif', 'profile_background_image_url_https': 'https://abs.twimg.com/images/themes/theme19/bg.gif', 'profile_background_tile': False, 'profile_image_url': 'http://pbs.twimg.com/profile_images/1166599712293756928/Eh4gjRtg_normal.jpg', 'profile_image_url_https': 'https://pbs.twimg.com/profile_images/1166599712293756928/Eh4gjRtg_normal.jpg', 'profile_banner_url': 'https://pbs.twimg.com/profile_banners/480723747/1593534402', 'profile_link_color': 'FF691F', 'profile_sidebar_border_color': 'FFFFFF', 'profile_sidebar_fill_color': 'DDEEF6', 'profile_text_color': '333333', 'profile_use_background_image': True, 'has_extended_profile': True, 'default_profile': False, 'default_profile_image': False, 'following': False, 'follow_request_sent': False, 'notifications': False, 'translator_type': 'none'}, 'geo': None, 'coordinates': None, 'place': None, 'contributors': None, 'is_quote_status': False, 'retweet_count': 5, 'favorite_count': 59, 'favorited': False, 'retweeted': False, 'possibly_sensitive': False, 'lang': 'en'}, created_at=datetime.datetime(2020, 11, 3, 2, 37, 47), id=1323454297045159936, id_str='1323454297045159936', full_text='Q. What is the beauty of IPL ?\\nA. A \"Khadoos\" Mumbaikar winning a key match for @DelhiCapitals in a crucial stand with local Gabbar against a @RCBTweets team led by a \"Dilli ka Launda\"\\n\\nMI vs DC in Qualifier 1 @ Dubai 🔥\\n\\nBlessed to start our morning 🌞 with a Rahane drive ❤ https://t.co/OlZUEk7hsn', truncated=False, display_text_range=[0, 273], entities={'hashtags': [], 'symbols': [], 'user_mentions': [{'screen_name': 'DelhiCapitals', 'name': 'Delhi Capitals (Tweeting from 🇦🇪)', 'id': 176888549, 'id_str': '176888549', 'indices': [80, 94]}, {'screen_name': 'RCBTweets', 'name': 'Royal Challengers Bangalore', 'id': 70931004, 'id_str': '70931004', 'indices': [142, 152]}], 'urls': [], 'media': [{'id': 1323454186525175808, 'id_str': '1323454186525175808', 'indices': [274, 297], 'media_url': 'http://pbs.twimg.com/media/El3akhhWMAAKwW_.jpg', 'media_url_https': 'https://pbs.twimg.com/media/El3akhhWMAAKwW_.jpg', 'url': 'https://t.co/OlZUEk7hsn', 'display_url': 'pic.twitter.com/OlZUEk7hsn', 'expanded_url': 'https://twitter.com/NorthStandGang/status/1323454297045159936/photo/1', 'type': 'photo', 'sizes': {'thumb': {'w': 150, 'h': 150, 'resize': 'crop'}, 'medium': {'w': 1200, 'h': 1200, 'resize': 'fit'}, 'large': {'w': 2048, 'h': 2048, 'resize': 'fit'}, 'small': {'w': 680, 'h': 680, 'resize': 'fit'}}}]}, extended_entities={'media': [{'id': 1323454186525175808, 'id_str': '1323454186525175808', 'indices': [274, 297], 'media_url': 'http://pbs.twimg.com/media/El3akhhWMAAKwW_.jpg', 'media_url_https': 'https://pbs.twimg.com/media/El3akhhWMAAKwW_.jpg', 'url': 'https://t.co/OlZUEk7hsn', 'display_url': 'pic.twitter.com/OlZUEk7hsn', 'expanded_url': 'https://twitter.com/NorthStandGang/status/1323454297045159936/photo/1', 'type': 'photo', 'sizes': {'thumb': {'w': 150, 'h': 150, 'resize': 'crop'}, 'medium': {'w': 1200, 'h': 1200, 'resize': 'fit'}, 'large': {'w': 2048, 'h': 2048, 'resize': 'fit'}, 'small': {'w': 680, 'h': 680, 'resize': 'fit'}}}]}, metadata={'iso_language_code': 'en', 'result_type': 'recent'}, source='Twitter Web App', source_url='https://mobile.twitter.com', in_reply_to_status_id=None, in_reply_to_status_id_str=None, in_reply_to_user_id=None, in_reply_to_user_id_str=None, in_reply_to_screen_name=None, author=User(_api=<tweepy.api.API object at 0x0000015AE2874088>, _json={'id': 480723747, 'id_str': '480723747', 'name': 'North Stand Gang - Wankhede', 'screen_name': 'NorthStandGang', 'location': 'Wankhede Stadium', 'description': 'We ♥️ Cricket!\\nJoin us in Level 3, North Stand, Wankhede Stadium.\\nWe cheer for India, loudest of all.\\nDM here or email thenorthstandgang@gmail.com for queries', 'url': 'https://t.co/2LULNLX2x7', 'entities': {'url': {'urls': [{'url': 'https://t.co/2LULNLX2x7', 'expanded_url': 'https://northstandgang.com', 'display_url': 'northstandgang.com', 'indices': [0, 23]}]}, 'description': {'urls': []}}, 'protected': False, 'followers_count': 8649, 'friends_count': 2487, 'listed_count': 39, 'created_at': 'Wed Feb 01 20:35:06 +0000 2012', 'favourites_count': 65671, 'utc_offset': None, 'time_zone': None, 'geo_enabled': True, 'verified': False, 'statuses_count': 45893, 'lang': None, 'contributors_enabled': False, 'is_translator': False, 'is_translation_enabled': False, 'profile_background_color': 'FFF04D', 'profile_background_image_url': 'http://abs.twimg.com/images/themes/theme19/bg.gif', 'profile_background_image_url_https': 'https://abs.twimg.com/images/themes/theme19/bg.gif', 'profile_background_tile': False, 'profile_image_url': 'http://pbs.twimg.com/profile_images/1166599712293756928/Eh4gjRtg_normal.jpg', 'profile_image_url_https': 'https://pbs.twimg.com/profile_images/1166599712293756928/Eh4gjRtg_normal.jpg', 'profile_banner_url': 'https://pbs.twimg.com/profile_banners/480723747/1593534402', 'profile_link_color': 'FF691F', 'profile_sidebar_border_color': 'FFFFFF', 'profile_sidebar_fill_color': 'DDEEF6', 'profile_text_color': '333333', 'profile_use_background_image': True, 'has_extended_profile': True, 'default_profile': False, 'default_profile_image': False, 'following': False, 'follow_request_sent': False, 'notifications': False, 'translator_type': 'none'}, id=480723747, id_str='480723747', name='North Stand Gang - Wankhede', screen_name='NorthStandGang', location='Wankhede Stadium', description='We ♥️ Cricket!\\nJoin us in Level 3, North Stand, Wankhede Stadium.\\nWe cheer for India, loudest of all.\\nDM here or email thenorthstandgang@gmail.com for queries', url='https://t.co/2LULNLX2x7', entities={'url': {'urls': [{'url': 'https://t.co/2LULNLX2x7', 'expanded_url': 'https://northstandgang.com', 'display_url': 'northstandgang.com', 'indices': [0, 23]}]}, 'description': {'urls': []}}, protected=False, followers_count=8649, friends_count=2487, listed_count=39, created_at=datetime.datetime(2012, 2, 1, 20, 35, 6), favourites_count=65671, utc_offset=None, time_zone=None, geo_enabled=True, verified=False, statuses_count=45893, lang=None, contributors_enabled=False, is_translator=False, is_translation_enabled=False, profile_background_color='FFF04D', profile_background_image_url='http://abs.twimg.com/images/themes/theme19/bg.gif', profile_background_image_url_https='https://abs.twimg.com/images/themes/theme19/bg.gif', profile_background_tile=False, profile_image_url='http://pbs.twimg.com/profile_images/1166599712293756928/Eh4gjRtg_normal.jpg', profile_image_url_https='https://pbs.twimg.com/profile_images/1166599712293756928/Eh4gjRtg_normal.jpg', profile_banner_url='https://pbs.twimg.com/profile_banners/480723747/1593534402', profile_link_color='FF691F', profile_sidebar_border_color='FFFFFF', profile_sidebar_fill_color='DDEEF6', profile_text_color='333333', profile_use_background_image=True, has_extended_profile=True, default_profile=False, default_profile_image=False, following=False, follow_request_sent=False, notifications=False, translator_type='none'), user=User(_api=<tweepy.api.API object at 0x0000015AE2874088>, _json={'id': 480723747, 'id_str': '480723747', 'name': 'North Stand Gang - Wankhede', 'screen_name': 'NorthStandGang', 'location': 'Wankhede Stadium', 'description': 'We ♥️ Cricket!\\nJoin us in Level 3, North Stand, Wankhede Stadium.\\nWe cheer for India, loudest of all.\\nDM here or email thenorthstandgang@gmail.com for queries', 'url': 'https://t.co/2LULNLX2x7', 'entities': {'url': {'urls': [{'url': 'https://t.co/2LULNLX2x7', 'expanded_url': 'https://northstandgang.com', 'display_url': 'northstandgang.com', 'indices': [0, 23]}]}, 'description': {'urls': []}}, 'protected': False, 'followers_count': 8649, 'friends_count': 2487, 'listed_count': 39, 'created_at': 'Wed Feb 01 20:35:06 +0000 2012', 'favourites_count': 65671, 'utc_offset': None, 'time_zone': None, 'geo_enabled': True, 'verified': False, 'statuses_count': 45893, 'lang': None, 'contributors_enabled': False, 'is_translator': False, 'is_translation_enabled': False, 'profile_background_color': 'FFF04D', 'profile_background_image_url': 'http://abs.twimg.com/images/themes/theme19/bg.gif', 'profile_background_image_url_https': 'https://abs.twimg.com/images/themes/theme19/bg.gif', 'profile_background_tile': False, 'profile_image_url': 'http://pbs.twimg.com/profile_images/1166599712293756928/Eh4gjRtg_normal.jpg', 'profile_image_url_https': 'https://pbs.twimg.com/profile_images/1166599712293756928/Eh4gjRtg_normal.jpg', 'profile_banner_url': 'https://pbs.twimg.com/profile_banners/480723747/1593534402', 'profile_link_color': 'FF691F', 'profile_sidebar_border_color': 'FFFFFF', 'profile_sidebar_fill_color': 'DDEEF6', 'profile_text_color': '333333', 'profile_use_background_image': True, 'has_extended_profile': True, 'default_profile': False, 'default_profile_image': False, 'following': False, 'follow_request_sent': False, 'notifications': False, 'translator_type': 'none'}, id=480723747, id_str='480723747', name='North Stand Gang - Wankhede', screen_name='NorthStandGang', location='Wankhede Stadium', description='We ♥️ Cricket!\\nJoin us in Level 3, North Stand, Wankhede Stadium.\\nWe cheer for India, loudest of all.\\nDM here or email thenorthstandgang@gmail.com for queries', url='https://t.co/2LULNLX2x7', entities={'url': {'urls': [{'url': 'https://t.co/2LULNLX2x7', 'expanded_url': 'https://northstandgang.com', 'display_url': 'northstandgang.com', 'indices': [0, 23]}]}, 'description': {'urls': []}}, protected=False, followers_count=8649, friends_count=2487, listed_count=39, created_at=datetime.datetime(2012, 2, 1, 20, 35, 6), favourites_count=65671, utc_offset=None, time_zone=None, geo_enabled=True, verified=False, statuses_count=45893, lang=None, contributors_enabled=False, is_translator=False, is_translation_enabled=False, profile_background_color='FFF04D', profile_background_image_url='http://abs.twimg.com/images/themes/theme19/bg.gif', profile_background_image_url_https='https://abs.twimg.com/images/themes/theme19/bg.gif', profile_background_tile=False, profile_image_url='http://pbs.twimg.com/profile_images/1166599712293756928/Eh4gjRtg_normal.jpg', profile_image_url_https='https://pbs.twimg.com/profile_images/1166599712293756928/Eh4gjRtg_normal.jpg', profile_banner_url='https://pbs.twimg.com/profile_banners/480723747/1593534402', profile_link_color='FF691F', profile_sidebar_border_color='FFFFFF', profile_sidebar_fill_color='DDEEF6', profile_text_color='333333', profile_use_background_image=True, has_extended_profile=True, default_profile=False, default_profile_image=False, following=False, follow_request_sent=False, notifications=False, translator_type='none'), geo=None, coordinates=None, place=None, contributors=None, is_quote_status=False, retweet_count=5, favorite_count=59, favorited=False, retweeted=False, possibly_sensitive=False, lang='en') \n",
      "\n",
      ".....................................\n",
      "\n",
      "Status(_api=<tweepy.api.API object at 0x0000015AE2874088>, _json={'created_at': 'Mon Nov 02 20:14:22 +0000 2020', 'id': 1323357807714816001, 'id_str': '1323357807714816001', 'full_text': \"I want #DC to win #IPL which seems to be impossible &amp; tough, still it's my desire to see #DC winning \\n\\n#DCvRCB\\n#IPL2020\", 'truncated': False, 'display_text_range': [0, 123], 'entities': {'hashtags': [{'text': 'DC', 'indices': [7, 10]}, {'text': 'IPL', 'indices': [18, 22]}, {'text': 'DC', 'indices': [93, 96]}, {'text': 'DCvRCB', 'indices': [107, 114]}, {'text': 'IPL2020', 'indices': [115, 123]}], 'symbols': [], 'user_mentions': [], 'urls': []}, 'metadata': {'iso_language_code': 'en', 'result_type': 'recent'}, 'source': '<a href=\"http://twitter.com/download/android\" rel=\"nofollow\">Twitter for Android</a>', 'in_reply_to_status_id': None, 'in_reply_to_status_id_str': None, 'in_reply_to_user_id': None, 'in_reply_to_user_id_str': None, 'in_reply_to_screen_name': None, 'user': {'id': 344477852, 'id_str': '344477852', 'name': 'Shaun', 'screen_name': 'Shaun_Rulex', 'location': ' 🌎 ', 'description': 'Innocent Boy✌ @BiggBoss fan', 'url': None, 'entities': {'description': {'urls': []}}, 'protected': False, 'followers_count': 2225, 'friends_count': 245, 'listed_count': 1, 'created_at': 'Fri Jul 29 03:39:17 +0000 2011', 'favourites_count': 50427, 'utc_offset': None, 'time_zone': None, 'geo_enabled': True, 'verified': False, 'statuses_count': 59465, 'lang': None, 'contributors_enabled': False, 'is_translator': False, 'is_translation_enabled': False, 'profile_background_color': 'C0DEED', 'profile_background_image_url': 'http://abs.twimg.com/images/themes/theme1/bg.png', 'profile_background_image_url_https': 'https://abs.twimg.com/images/themes/theme1/bg.png', 'profile_background_tile': False, 'profile_image_url': 'http://pbs.twimg.com/profile_images/869314474338996224/VoY4uVWE_normal.jpg', 'profile_image_url_https': 'https://pbs.twimg.com/profile_images/869314474338996224/VoY4uVWE_normal.jpg', 'profile_banner_url': 'https://pbs.twimg.com/profile_banners/344477852/1528462525', 'profile_link_color': '1DA1F2', 'profile_sidebar_border_color': 'C0DEED', 'profile_sidebar_fill_color': 'DDEEF6', 'profile_text_color': '333333', 'profile_use_background_image': True, 'has_extended_profile': True, 'default_profile': True, 'default_profile_image': False, 'following': False, 'follow_request_sent': False, 'notifications': False, 'translator_type': 'none'}, 'geo': None, 'coordinates': None, 'place': None, 'contributors': None, 'is_quote_status': False, 'retweet_count': 1, 'favorite_count': 4, 'favorited': False, 'retweeted': False, 'lang': 'en'}, created_at=datetime.datetime(2020, 11, 2, 20, 14, 22), id=1323357807714816001, id_str='1323357807714816001', full_text=\"I want #DC to win #IPL which seems to be impossible &amp; tough, still it's my desire to see #DC winning \\n\\n#DCvRCB\\n#IPL2020\", truncated=False, display_text_range=[0, 123], entities={'hashtags': [{'text': 'DC', 'indices': [7, 10]}, {'text': 'IPL', 'indices': [18, 22]}, {'text': 'DC', 'indices': [93, 96]}, {'text': 'DCvRCB', 'indices': [107, 114]}, {'text': 'IPL2020', 'indices': [115, 123]}], 'symbols': [], 'user_mentions': [], 'urls': []}, metadata={'iso_language_code': 'en', 'result_type': 'recent'}, source='Twitter for Android', source_url='http://twitter.com/download/android', in_reply_to_status_id=None, in_reply_to_status_id_str=None, in_reply_to_user_id=None, in_reply_to_user_id_str=None, in_reply_to_screen_name=None, author=User(_api=<tweepy.api.API object at 0x0000015AE2874088>, _json={'id': 344477852, 'id_str': '344477852', 'name': 'Shaun', 'screen_name': 'Shaun_Rulex', 'location': ' 🌎 ', 'description': 'Innocent Boy✌ @BiggBoss fan', 'url': None, 'entities': {'description': {'urls': []}}, 'protected': False, 'followers_count': 2225, 'friends_count': 245, 'listed_count': 1, 'created_at': 'Fri Jul 29 03:39:17 +0000 2011', 'favourites_count': 50427, 'utc_offset': None, 'time_zone': None, 'geo_enabled': True, 'verified': False, 'statuses_count': 59465, 'lang': None, 'contributors_enabled': False, 'is_translator': False, 'is_translation_enabled': False, 'profile_background_color': 'C0DEED', 'profile_background_image_url': 'http://abs.twimg.com/images/themes/theme1/bg.png', 'profile_background_image_url_https': 'https://abs.twimg.com/images/themes/theme1/bg.png', 'profile_background_tile': False, 'profile_image_url': 'http://pbs.twimg.com/profile_images/869314474338996224/VoY4uVWE_normal.jpg', 'profile_image_url_https': 'https://pbs.twimg.com/profile_images/869314474338996224/VoY4uVWE_normal.jpg', 'profile_banner_url': 'https://pbs.twimg.com/profile_banners/344477852/1528462525', 'profile_link_color': '1DA1F2', 'profile_sidebar_border_color': 'C0DEED', 'profile_sidebar_fill_color': 'DDEEF6', 'profile_text_color': '333333', 'profile_use_background_image': True, 'has_extended_profile': True, 'default_profile': True, 'default_profile_image': False, 'following': False, 'follow_request_sent': False, 'notifications': False, 'translator_type': 'none'}, id=344477852, id_str='344477852', name='Shaun', screen_name='Shaun_Rulex', location=' 🌎 ', description='Innocent Boy✌ @BiggBoss fan', url=None, entities={'description': {'urls': []}}, protected=False, followers_count=2225, friends_count=245, listed_count=1, created_at=datetime.datetime(2011, 7, 29, 3, 39, 17), favourites_count=50427, utc_offset=None, time_zone=None, geo_enabled=True, verified=False, statuses_count=59465, lang=None, contributors_enabled=False, is_translator=False, is_translation_enabled=False, profile_background_color='C0DEED', profile_background_image_url='http://abs.twimg.com/images/themes/theme1/bg.png', profile_background_image_url_https='https://abs.twimg.com/images/themes/theme1/bg.png', profile_background_tile=False, profile_image_url='http://pbs.twimg.com/profile_images/869314474338996224/VoY4uVWE_normal.jpg', profile_image_url_https='https://pbs.twimg.com/profile_images/869314474338996224/VoY4uVWE_normal.jpg', profile_banner_url='https://pbs.twimg.com/profile_banners/344477852/1528462525', profile_link_color='1DA1F2', profile_sidebar_border_color='C0DEED', profile_sidebar_fill_color='DDEEF6', profile_text_color='333333', profile_use_background_image=True, has_extended_profile=True, default_profile=True, default_profile_image=False, following=False, follow_request_sent=False, notifications=False, translator_type='none'), user=User(_api=<tweepy.api.API object at 0x0000015AE2874088>, _json={'id': 344477852, 'id_str': '344477852', 'name': 'Shaun', 'screen_name': 'Shaun_Rulex', 'location': ' 🌎 ', 'description': 'Innocent Boy✌ @BiggBoss fan', 'url': None, 'entities': {'description': {'urls': []}}, 'protected': False, 'followers_count': 2225, 'friends_count': 245, 'listed_count': 1, 'created_at': 'Fri Jul 29 03:39:17 +0000 2011', 'favourites_count': 50427, 'utc_offset': None, 'time_zone': None, 'geo_enabled': True, 'verified': False, 'statuses_count': 59465, 'lang': None, 'contributors_enabled': False, 'is_translator': False, 'is_translation_enabled': False, 'profile_background_color': 'C0DEED', 'profile_background_image_url': 'http://abs.twimg.com/images/themes/theme1/bg.png', 'profile_background_image_url_https': 'https://abs.twimg.com/images/themes/theme1/bg.png', 'profile_background_tile': False, 'profile_image_url': 'http://pbs.twimg.com/profile_images/869314474338996224/VoY4uVWE_normal.jpg', 'profile_image_url_https': 'https://pbs.twimg.com/profile_images/869314474338996224/VoY4uVWE_normal.jpg', 'profile_banner_url': 'https://pbs.twimg.com/profile_banners/344477852/1528462525', 'profile_link_color': '1DA1F2', 'profile_sidebar_border_color': 'C0DEED', 'profile_sidebar_fill_color': 'DDEEF6', 'profile_text_color': '333333', 'profile_use_background_image': True, 'has_extended_profile': True, 'default_profile': True, 'default_profile_image': False, 'following': False, 'follow_request_sent': False, 'notifications': False, 'translator_type': 'none'}, id=344477852, id_str='344477852', name='Shaun', screen_name='Shaun_Rulex', location=' 🌎 ', description='Innocent Boy✌ @BiggBoss fan', url=None, entities={'description': {'urls': []}}, protected=False, followers_count=2225, friends_count=245, listed_count=1, created_at=datetime.datetime(2011, 7, 29, 3, 39, 17), favourites_count=50427, utc_offset=None, time_zone=None, geo_enabled=True, verified=False, statuses_count=59465, lang=None, contributors_enabled=False, is_translator=False, is_translation_enabled=False, profile_background_color='C0DEED', profile_background_image_url='http://abs.twimg.com/images/themes/theme1/bg.png', profile_background_image_url_https='https://abs.twimg.com/images/themes/theme1/bg.png', profile_background_tile=False, profile_image_url='http://pbs.twimg.com/profile_images/869314474338996224/VoY4uVWE_normal.jpg', profile_image_url_https='https://pbs.twimg.com/profile_images/869314474338996224/VoY4uVWE_normal.jpg', profile_banner_url='https://pbs.twimg.com/profile_banners/344477852/1528462525', profile_link_color='1DA1F2', profile_sidebar_border_color='C0DEED', profile_sidebar_fill_color='DDEEF6', profile_text_color='333333', profile_use_background_image=True, has_extended_profile=True, default_profile=True, default_profile_image=False, following=False, follow_request_sent=False, notifications=False, translator_type='none'), geo=None, coordinates=None, place=None, contributors=None, is_quote_status=False, retweet_count=1, favorite_count=4, favorited=False, retweeted=False, lang='en') \n",
      "\n",
      ".....................................\n",
      "\n",
      "Status(_api=<tweepy.api.API object at 0x0000015AE2874088>, _json={'created_at': 'Mon Nov 02 18:34:47 +0000 2020', 'id': 1323332746706522113, 'id_str': '1323332746706522113', 'full_text': \"@Ikmitra @AbdPakku @KKRiders @TBanton18 @RealShubmanGill Hahahahaha... Rcb also didn't deserve it...  Now if KKR goes in it will be the winner of ipl 2020... If not then SRH.... But Rcb and DC are not worth winning teams.... 🤣 🤣 🤣\", 'truncated': False, 'display_text_range': [57, 230], 'entities': {'hashtags': [], 'symbols': [], 'user_mentions': [{'screen_name': 'Ikmitra', 'name': 'Kaushik Mitra🇮🇳', 'id': 985046119687294976, 'id_str': '985046119687294976', 'indices': [0, 8]}, {'screen_name': 'AbdPakku', 'name': 'Pakku🥰Abd', 'id': 1321159288748793856, 'id_str': '1321159288748793856', 'indices': [9, 18]}, {'screen_name': 'KKRiders', 'name': 'KolkataKnightRiders', 'id': 23592970, 'id_str': '23592970', 'indices': [19, 28]}, {'screen_name': 'TBanton18', 'name': 'Tom Banton', 'id': 1207111128297422853, 'id_str': '1207111128297422853', 'indices': [29, 39]}, {'screen_name': 'RealShubmanGill', 'name': 'Shubman Gill', 'id': 959840104440385536, 'id_str': '959840104440385536', 'indices': [40, 56]}], 'urls': []}, 'metadata': {'iso_language_code': 'en', 'result_type': 'recent'}, 'source': '<a href=\"http://twitter.com/download/android\" rel=\"nofollow\">Twitter for Android</a>', 'in_reply_to_status_id': 1323323500606550016, 'in_reply_to_status_id_str': '1323323500606550016', 'in_reply_to_user_id': 985046119687294976, 'in_reply_to_user_id_str': '985046119687294976', 'in_reply_to_screen_name': 'Ikmitra', 'user': {'id': 105413732, 'id_str': '105413732', 'name': 'Sheikh Salim', 'screen_name': 'sheikhsd1983', 'location': '', 'description': 'Graphic Designer by profession Photographer by Hobby Simple, Smart, Happy & Kind by person is wht i belive of myself If u hv comments always welcome....', 'url': None, 'entities': {'description': {'urls': []}}, 'protected': False, 'followers_count': 45, 'friends_count': 124, 'listed_count': 1, 'created_at': 'Sat Jan 16 08:07:27 +0000 2010', 'favourites_count': 304, 'utc_offset': None, 'time_zone': None, 'geo_enabled': True, 'verified': False, 'statuses_count': 1008, 'lang': None, 'contributors_enabled': False, 'is_translator': False, 'is_translation_enabled': False, 'profile_background_color': '8B542B', 'profile_background_image_url': 'http://abs.twimg.com/images/themes/theme1/bg.png', 'profile_background_image_url_https': 'https://abs.twimg.com/images/themes/theme1/bg.png', 'profile_background_tile': True, 'profile_image_url': 'http://pbs.twimg.com/profile_images/634714051/DSC00192_normal.JPG', 'profile_image_url_https': 'https://pbs.twimg.com/profile_images/634714051/DSC00192_normal.JPG', 'profile_link_color': '9D582E', 'profile_sidebar_border_color': 'C0DEED', 'profile_sidebar_fill_color': 'DDEEF6', 'profile_text_color': '333333', 'profile_use_background_image': True, 'has_extended_profile': False, 'default_profile': False, 'default_profile_image': False, 'following': False, 'follow_request_sent': False, 'notifications': False, 'translator_type': 'none'}, 'geo': None, 'coordinates': None, 'place': None, 'contributors': None, 'is_quote_status': False, 'retweet_count': 0, 'favorite_count': 0, 'favorited': False, 'retweeted': False, 'lang': 'en'}, created_at=datetime.datetime(2020, 11, 2, 18, 34, 47), id=1323332746706522113, id_str='1323332746706522113', full_text=\"@Ikmitra @AbdPakku @KKRiders @TBanton18 @RealShubmanGill Hahahahaha... Rcb also didn't deserve it...  Now if KKR goes in it will be the winner of ipl 2020... If not then SRH.... But Rcb and DC are not worth winning teams.... 🤣 🤣 🤣\", truncated=False, display_text_range=[57, 230], entities={'hashtags': [], 'symbols': [], 'user_mentions': [{'screen_name': 'Ikmitra', 'name': 'Kaushik Mitra🇮🇳', 'id': 985046119687294976, 'id_str': '985046119687294976', 'indices': [0, 8]}, {'screen_name': 'AbdPakku', 'name': 'Pakku🥰Abd', 'id': 1321159288748793856, 'id_str': '1321159288748793856', 'indices': [9, 18]}, {'screen_name': 'KKRiders', 'name': 'KolkataKnightRiders', 'id': 23592970, 'id_str': '23592970', 'indices': [19, 28]}, {'screen_name': 'TBanton18', 'name': 'Tom Banton', 'id': 1207111128297422853, 'id_str': '1207111128297422853', 'indices': [29, 39]}, {'screen_name': 'RealShubmanGill', 'name': 'Shubman Gill', 'id': 959840104440385536, 'id_str': '959840104440385536', 'indices': [40, 56]}], 'urls': []}, metadata={'iso_language_code': 'en', 'result_type': 'recent'}, source='Twitter for Android', source_url='http://twitter.com/download/android', in_reply_to_status_id=1323323500606550016, in_reply_to_status_id_str='1323323500606550016', in_reply_to_user_id=985046119687294976, in_reply_to_user_id_str='985046119687294976', in_reply_to_screen_name='Ikmitra', author=User(_api=<tweepy.api.API object at 0x0000015AE2874088>, _json={'id': 105413732, 'id_str': '105413732', 'name': 'Sheikh Salim', 'screen_name': 'sheikhsd1983', 'location': '', 'description': 'Graphic Designer by profession Photographer by Hobby Simple, Smart, Happy & Kind by person is wht i belive of myself If u hv comments always welcome....', 'url': None, 'entities': {'description': {'urls': []}}, 'protected': False, 'followers_count': 45, 'friends_count': 124, 'listed_count': 1, 'created_at': 'Sat Jan 16 08:07:27 +0000 2010', 'favourites_count': 304, 'utc_offset': None, 'time_zone': None, 'geo_enabled': True, 'verified': False, 'statuses_count': 1008, 'lang': None, 'contributors_enabled': False, 'is_translator': False, 'is_translation_enabled': False, 'profile_background_color': '8B542B', 'profile_background_image_url': 'http://abs.twimg.com/images/themes/theme1/bg.png', 'profile_background_image_url_https': 'https://abs.twimg.com/images/themes/theme1/bg.png', 'profile_background_tile': True, 'profile_image_url': 'http://pbs.twimg.com/profile_images/634714051/DSC00192_normal.JPG', 'profile_image_url_https': 'https://pbs.twimg.com/profile_images/634714051/DSC00192_normal.JPG', 'profile_link_color': '9D582E', 'profile_sidebar_border_color': 'C0DEED', 'profile_sidebar_fill_color': 'DDEEF6', 'profile_text_color': '333333', 'profile_use_background_image': True, 'has_extended_profile': False, 'default_profile': False, 'default_profile_image': False, 'following': False, 'follow_request_sent': False, 'notifications': False, 'translator_type': 'none'}, id=105413732, id_str='105413732', name='Sheikh Salim', screen_name='sheikhsd1983', location='', description='Graphic Designer by profession Photographer by Hobby Simple, Smart, Happy & Kind by person is wht i belive of myself If u hv comments always welcome....', url=None, entities={'description': {'urls': []}}, protected=False, followers_count=45, friends_count=124, listed_count=1, created_at=datetime.datetime(2010, 1, 16, 8, 7, 27), favourites_count=304, utc_offset=None, time_zone=None, geo_enabled=True, verified=False, statuses_count=1008, lang=None, contributors_enabled=False, is_translator=False, is_translation_enabled=False, profile_background_color='8B542B', profile_background_image_url='http://abs.twimg.com/images/themes/theme1/bg.png', profile_background_image_url_https='https://abs.twimg.com/images/themes/theme1/bg.png', profile_background_tile=True, profile_image_url='http://pbs.twimg.com/profile_images/634714051/DSC00192_normal.JPG', profile_image_url_https='https://pbs.twimg.com/profile_images/634714051/DSC00192_normal.JPG', profile_link_color='9D582E', profile_sidebar_border_color='C0DEED', profile_sidebar_fill_color='DDEEF6', profile_text_color='333333', profile_use_background_image=True, has_extended_profile=False, default_profile=False, default_profile_image=False, following=False, follow_request_sent=False, notifications=False, translator_type='none'), user=User(_api=<tweepy.api.API object at 0x0000015AE2874088>, _json={'id': 105413732, 'id_str': '105413732', 'name': 'Sheikh Salim', 'screen_name': 'sheikhsd1983', 'location': '', 'description': 'Graphic Designer by profession Photographer by Hobby Simple, Smart, Happy & Kind by person is wht i belive of myself If u hv comments always welcome....', 'url': None, 'entities': {'description': {'urls': []}}, 'protected': False, 'followers_count': 45, 'friends_count': 124, 'listed_count': 1, 'created_at': 'Sat Jan 16 08:07:27 +0000 2010', 'favourites_count': 304, 'utc_offset': None, 'time_zone': None, 'geo_enabled': True, 'verified': False, 'statuses_count': 1008, 'lang': None, 'contributors_enabled': False, 'is_translator': False, 'is_translation_enabled': False, 'profile_background_color': '8B542B', 'profile_background_image_url': 'http://abs.twimg.com/images/themes/theme1/bg.png', 'profile_background_image_url_https': 'https://abs.twimg.com/images/themes/theme1/bg.png', 'profile_background_tile': True, 'profile_image_url': 'http://pbs.twimg.com/profile_images/634714051/DSC00192_normal.JPG', 'profile_image_url_https': 'https://pbs.twimg.com/profile_images/634714051/DSC00192_normal.JPG', 'profile_link_color': '9D582E', 'profile_sidebar_border_color': 'C0DEED', 'profile_sidebar_fill_color': 'DDEEF6', 'profile_text_color': '333333', 'profile_use_background_image': True, 'has_extended_profile': False, 'default_profile': False, 'default_profile_image': False, 'following': False, 'follow_request_sent': False, 'notifications': False, 'translator_type': 'none'}, id=105413732, id_str='105413732', name='Sheikh Salim', screen_name='sheikhsd1983', location='', description='Graphic Designer by profession Photographer by Hobby Simple, Smart, Happy & Kind by person is wht i belive of myself If u hv comments always welcome....', url=None, entities={'description': {'urls': []}}, protected=False, followers_count=45, friends_count=124, listed_count=1, created_at=datetime.datetime(2010, 1, 16, 8, 7, 27), favourites_count=304, utc_offset=None, time_zone=None, geo_enabled=True, verified=False, statuses_count=1008, lang=None, contributors_enabled=False, is_translator=False, is_translation_enabled=False, profile_background_color='8B542B', profile_background_image_url='http://abs.twimg.com/images/themes/theme1/bg.png', profile_background_image_url_https='https://abs.twimg.com/images/themes/theme1/bg.png', profile_background_tile=True, profile_image_url='http://pbs.twimg.com/profile_images/634714051/DSC00192_normal.JPG', profile_image_url_https='https://pbs.twimg.com/profile_images/634714051/DSC00192_normal.JPG', profile_link_color='9D582E', profile_sidebar_border_color='C0DEED', profile_sidebar_fill_color='DDEEF6', profile_text_color='333333', profile_use_background_image=True, has_extended_profile=False, default_profile=False, default_profile_image=False, following=False, follow_request_sent=False, notifications=False, translator_type='none'), geo=None, coordinates=None, place=None, contributors=None, is_quote_status=False, retweet_count=0, favorite_count=0, favorited=False, retweeted=False, lang='en') \n",
      "\n",
      ".....................................\n",
      "\n",
      "Status(_api=<tweepy.api.API object at 0x0000015AE2874088>, _json={'created_at': 'Mon Nov 02 18:08:18 +0000 2020', 'id': 1323326081877766144, 'id_str': '1323326081877766144', 'full_text': '#DCvsRCB | #IPL2020 \\nDelhi Secure 2nd Place in PlayOffs with Winning Over Bangalore\\n\\nWATCH NOW: https://t.co/MSUtkEPU0T\\n\\nFeat. Soorya Sesha ( @sooryasesha7 ) and Shrikant ( @MrShrikantK413 ) as Best Tweets of the game.  \\n\\n#DC #RCB #DelhiCapitals #YehHaiNayiDilli #PlayBold #IPL', 'truncated': False, 'display_text_range': [0, 277], 'entities': {'hashtags': [{'text': 'DCvsRCB', 'indices': [0, 8]}, {'text': 'IPL2020', 'indices': [11, 19]}, {'text': 'DC', 'indices': [222, 225]}, {'text': 'RCB', 'indices': [226, 230]}, {'text': 'DelhiCapitals', 'indices': [231, 245]}, {'text': 'YehHaiNayiDilli', 'indices': [246, 262]}, {'text': 'PlayBold', 'indices': [263, 272]}, {'text': 'IPL', 'indices': [273, 277]}], 'symbols': [], 'user_mentions': [{'screen_name': 'sooryasesha7', 'name': 'Soorya Sesha', 'id': 703503285462798336, 'id_str': '703503285462798336', 'indices': [142, 155]}, {'screen_name': 'MrShrikantK413', 'name': 'Shrikant', 'id': 834622954075987968, 'id_str': '834622954075987968', 'indices': [173, 188]}], 'urls': [{'url': 'https://t.co/MSUtkEPU0T', 'expanded_url': 'https://youtu.be/3G_-PdDBegI', 'display_url': 'youtu.be/3G_-PdDBegI', 'indices': [96, 119]}]}, 'metadata': {'iso_language_code': 'en', 'result_type': 'recent'}, 'source': '<a href=\"https://mobile.twitter.com\" rel=\"nofollow\">Twitter Web App</a>', 'in_reply_to_status_id': None, 'in_reply_to_status_id_str': None, 'in_reply_to_user_id': None, 'in_reply_to_user_id_str': None, 'in_reply_to_screen_name': None, 'user': {'id': 1227520533052317697, 'id_str': '1227520533052317697', 'name': 'SportsTiger', 'screen_name': 'sportstigerapp', 'location': 'Jaipur, Rajasthan', 'description': 'Follow SportsTiger for latest sports news around the globe | Live Matches | Videos | Scorecards | Fantasy Predictions | Match Highlights & much more', 'url': 'https://t.co/DYA99AdZ4h', 'entities': {'url': {'urls': [{'url': 'https://t.co/DYA99AdZ4h', 'expanded_url': 'https://bit.ly/SportsTiger_App', 'display_url': 'bit.ly/SportsTiger_App', 'indices': [0, 23]}]}, 'description': {'urls': []}}, 'protected': False, 'followers_count': 1493, 'friends_count': 70, 'listed_count': 0, 'created_at': 'Wed Feb 12 09:11:28 +0000 2020', 'favourites_count': 99, 'utc_offset': None, 'time_zone': None, 'geo_enabled': False, 'verified': False, 'statuses_count': 14614, 'lang': None, 'contributors_enabled': False, 'is_translator': False, 'is_translation_enabled': False, 'profile_background_color': 'F5F8FA', 'profile_background_image_url': None, 'profile_background_image_url_https': None, 'profile_background_tile': False, 'profile_image_url': 'http://pbs.twimg.com/profile_images/1308843124689530880/Q7Ojw9Ca_normal.jpg', 'profile_image_url_https': 'https://pbs.twimg.com/profile_images/1308843124689530880/Q7Ojw9Ca_normal.jpg', 'profile_banner_url': 'https://pbs.twimg.com/profile_banners/1227520533052317697/1601729061', 'profile_link_color': '1DA1F2', 'profile_sidebar_border_color': 'C0DEED', 'profile_sidebar_fill_color': 'DDEEF6', 'profile_text_color': '333333', 'profile_use_background_image': True, 'has_extended_profile': False, 'default_profile': True, 'default_profile_image': False, 'following': False, 'follow_request_sent': False, 'notifications': False, 'translator_type': 'none'}, 'geo': None, 'coordinates': None, 'place': None, 'contributors': None, 'is_quote_status': False, 'retweet_count': 3, 'favorite_count': 8, 'favorited': False, 'retweeted': False, 'possibly_sensitive': False, 'lang': 'en'}, created_at=datetime.datetime(2020, 11, 2, 18, 8, 18), id=1323326081877766144, id_str='1323326081877766144', full_text='#DCvsRCB | #IPL2020 \\nDelhi Secure 2nd Place in PlayOffs with Winning Over Bangalore\\n\\nWATCH NOW: https://t.co/MSUtkEPU0T\\n\\nFeat. Soorya Sesha ( @sooryasesha7 ) and Shrikant ( @MrShrikantK413 ) as Best Tweets of the game.  \\n\\n#DC #RCB #DelhiCapitals #YehHaiNayiDilli #PlayBold #IPL', truncated=False, display_text_range=[0, 277], entities={'hashtags': [{'text': 'DCvsRCB', 'indices': [0, 8]}, {'text': 'IPL2020', 'indices': [11, 19]}, {'text': 'DC', 'indices': [222, 225]}, {'text': 'RCB', 'indices': [226, 230]}, {'text': 'DelhiCapitals', 'indices': [231, 245]}, {'text': 'YehHaiNayiDilli', 'indices': [246, 262]}, {'text': 'PlayBold', 'indices': [263, 272]}, {'text': 'IPL', 'indices': [273, 277]}], 'symbols': [], 'user_mentions': [{'screen_name': 'sooryasesha7', 'name': 'Soorya Sesha', 'id': 703503285462798336, 'id_str': '703503285462798336', 'indices': [142, 155]}, {'screen_name': 'MrShrikantK413', 'name': 'Shrikant', 'id': 834622954075987968, 'id_str': '834622954075987968', 'indices': [173, 188]}], 'urls': [{'url': 'https://t.co/MSUtkEPU0T', 'expanded_url': 'https://youtu.be/3G_-PdDBegI', 'display_url': 'youtu.be/3G_-PdDBegI', 'indices': [96, 119]}]}, metadata={'iso_language_code': 'en', 'result_type': 'recent'}, source='Twitter Web App', source_url='https://mobile.twitter.com', in_reply_to_status_id=None, in_reply_to_status_id_str=None, in_reply_to_user_id=None, in_reply_to_user_id_str=None, in_reply_to_screen_name=None, author=User(_api=<tweepy.api.API object at 0x0000015AE2874088>, _json={'id': 1227520533052317697, 'id_str': '1227520533052317697', 'name': 'SportsTiger', 'screen_name': 'sportstigerapp', 'location': 'Jaipur, Rajasthan', 'description': 'Follow SportsTiger for latest sports news around the globe | Live Matches | Videos | Scorecards | Fantasy Predictions | Match Highlights & much more', 'url': 'https://t.co/DYA99AdZ4h', 'entities': {'url': {'urls': [{'url': 'https://t.co/DYA99AdZ4h', 'expanded_url': 'https://bit.ly/SportsTiger_App', 'display_url': 'bit.ly/SportsTiger_App', 'indices': [0, 23]}]}, 'description': {'urls': []}}, 'protected': False, 'followers_count': 1493, 'friends_count': 70, 'listed_count': 0, 'created_at': 'Wed Feb 12 09:11:28 +0000 2020', 'favourites_count': 99, 'utc_offset': None, 'time_zone': None, 'geo_enabled': False, 'verified': False, 'statuses_count': 14614, 'lang': None, 'contributors_enabled': False, 'is_translator': False, 'is_translation_enabled': False, 'profile_background_color': 'F5F8FA', 'profile_background_image_url': None, 'profile_background_image_url_https': None, 'profile_background_tile': False, 'profile_image_url': 'http://pbs.twimg.com/profile_images/1308843124689530880/Q7Ojw9Ca_normal.jpg', 'profile_image_url_https': 'https://pbs.twimg.com/profile_images/1308843124689530880/Q7Ojw9Ca_normal.jpg', 'profile_banner_url': 'https://pbs.twimg.com/profile_banners/1227520533052317697/1601729061', 'profile_link_color': '1DA1F2', 'profile_sidebar_border_color': 'C0DEED', 'profile_sidebar_fill_color': 'DDEEF6', 'profile_text_color': '333333', 'profile_use_background_image': True, 'has_extended_profile': False, 'default_profile': True, 'default_profile_image': False, 'following': False, 'follow_request_sent': False, 'notifications': False, 'translator_type': 'none'}, id=1227520533052317697, id_str='1227520533052317697', name='SportsTiger', screen_name='sportstigerapp', location='Jaipur, Rajasthan', description='Follow SportsTiger for latest sports news around the globe | Live Matches | Videos | Scorecards | Fantasy Predictions | Match Highlights & much more', url='https://t.co/DYA99AdZ4h', entities={'url': {'urls': [{'url': 'https://t.co/DYA99AdZ4h', 'expanded_url': 'https://bit.ly/SportsTiger_App', 'display_url': 'bit.ly/SportsTiger_App', 'indices': [0, 23]}]}, 'description': {'urls': []}}, protected=False, followers_count=1493, friends_count=70, listed_count=0, created_at=datetime.datetime(2020, 2, 12, 9, 11, 28), favourites_count=99, utc_offset=None, time_zone=None, geo_enabled=False, verified=False, statuses_count=14614, lang=None, contributors_enabled=False, is_translator=False, is_translation_enabled=False, profile_background_color='F5F8FA', profile_background_image_url=None, profile_background_image_url_https=None, profile_background_tile=False, profile_image_url='http://pbs.twimg.com/profile_images/1308843124689530880/Q7Ojw9Ca_normal.jpg', profile_image_url_https='https://pbs.twimg.com/profile_images/1308843124689530880/Q7Ojw9Ca_normal.jpg', profile_banner_url='https://pbs.twimg.com/profile_banners/1227520533052317697/1601729061', profile_link_color='1DA1F2', profile_sidebar_border_color='C0DEED', profile_sidebar_fill_color='DDEEF6', profile_text_color='333333', profile_use_background_image=True, has_extended_profile=False, default_profile=True, default_profile_image=False, following=False, follow_request_sent=False, notifications=False, translator_type='none'), user=User(_api=<tweepy.api.API object at 0x0000015AE2874088>, _json={'id': 1227520533052317697, 'id_str': '1227520533052317697', 'name': 'SportsTiger', 'screen_name': 'sportstigerapp', 'location': 'Jaipur, Rajasthan', 'description': 'Follow SportsTiger for latest sports news around the globe | Live Matches | Videos | Scorecards | Fantasy Predictions | Match Highlights & much more', 'url': 'https://t.co/DYA99AdZ4h', 'entities': {'url': {'urls': [{'url': 'https://t.co/DYA99AdZ4h', 'expanded_url': 'https://bit.ly/SportsTiger_App', 'display_url': 'bit.ly/SportsTiger_App', 'indices': [0, 23]}]}, 'description': {'urls': []}}, 'protected': False, 'followers_count': 1493, 'friends_count': 70, 'listed_count': 0, 'created_at': 'Wed Feb 12 09:11:28 +0000 2020', 'favourites_count': 99, 'utc_offset': None, 'time_zone': None, 'geo_enabled': False, 'verified': False, 'statuses_count': 14614, 'lang': None, 'contributors_enabled': False, 'is_translator': False, 'is_translation_enabled': False, 'profile_background_color': 'F5F8FA', 'profile_background_image_url': None, 'profile_background_image_url_https': None, 'profile_background_tile': False, 'profile_image_url': 'http://pbs.twimg.com/profile_images/1308843124689530880/Q7Ojw9Ca_normal.jpg', 'profile_image_url_https': 'https://pbs.twimg.com/profile_images/1308843124689530880/Q7Ojw9Ca_normal.jpg', 'profile_banner_url': 'https://pbs.twimg.com/profile_banners/1227520533052317697/1601729061', 'profile_link_color': '1DA1F2', 'profile_sidebar_border_color': 'C0DEED', 'profile_sidebar_fill_color': 'DDEEF6', 'profile_text_color': '333333', 'profile_use_background_image': True, 'has_extended_profile': False, 'default_profile': True, 'default_profile_image': False, 'following': False, 'follow_request_sent': False, 'notifications': False, 'translator_type': 'none'}, id=1227520533052317697, id_str='1227520533052317697', name='SportsTiger', screen_name='sportstigerapp', location='Jaipur, Rajasthan', description='Follow SportsTiger for latest sports news around the globe | Live Matches | Videos | Scorecards | Fantasy Predictions | Match Highlights & much more', url='https://t.co/DYA99AdZ4h', entities={'url': {'urls': [{'url': 'https://t.co/DYA99AdZ4h', 'expanded_url': 'https://bit.ly/SportsTiger_App', 'display_url': 'bit.ly/SportsTiger_App', 'indices': [0, 23]}]}, 'description': {'urls': []}}, protected=False, followers_count=1493, friends_count=70, listed_count=0, created_at=datetime.datetime(2020, 2, 12, 9, 11, 28), favourites_count=99, utc_offset=None, time_zone=None, geo_enabled=False, verified=False, statuses_count=14614, lang=None, contributors_enabled=False, is_translator=False, is_translation_enabled=False, profile_background_color='F5F8FA', profile_background_image_url=None, profile_background_image_url_https=None, profile_background_tile=False, profile_image_url='http://pbs.twimg.com/profile_images/1308843124689530880/Q7Ojw9Ca_normal.jpg', profile_image_url_https='https://pbs.twimg.com/profile_images/1308843124689530880/Q7Ojw9Ca_normal.jpg', profile_banner_url='https://pbs.twimg.com/profile_banners/1227520533052317697/1601729061', profile_link_color='1DA1F2', profile_sidebar_border_color='C0DEED', profile_sidebar_fill_color='DDEEF6', profile_text_color='333333', profile_use_background_image=True, has_extended_profile=False, default_profile=True, default_profile_image=False, following=False, follow_request_sent=False, notifications=False, translator_type='none'), geo=None, coordinates=None, place=None, contributors=None, is_quote_status=False, retweet_count=3, favorite_count=8, favorited=False, retweeted=False, possibly_sensitive=False, lang='en') \n",
      "\n",
      ".....................................\n",
      "\n",
      "Status(_api=<tweepy.api.API object at 0x0000015AE2874088>, _json={'created_at': 'Mon Nov 02 17:45:15 +0000 2020', 'id': 1323320281205649408, 'id_str': '1323320281205649408', 'full_text': 'Delhi Capitals Win &amp; Book the No.2 Spot.\\nJust Play &amp; Win on Booster99.\\n#Booster99 #booster99india #IPL #IPL2020 #iplt20 #iplcup #iplinuae2020 #dcvsrcb #dc #rcb #crickett20 #cricket🏏 #2020cricket #crickett20match #shreyasiyer #viratkohli #win #winning #congratulations🎉 #uae🇦🇪 https://t.co/6aEHVrWf90', 'truncated': False, 'display_text_range': [0, 283], 'entities': {'hashtags': [{'text': 'Booster99', 'indices': [79, 89]}, {'text': 'booster99india', 'indices': [90, 105]}, {'text': 'IPL', 'indices': [106, 110]}, {'text': 'IPL2020', 'indices': [111, 119]}, {'text': 'iplt20', 'indices': [120, 127]}, {'text': 'iplcup', 'indices': [128, 135]}, {'text': 'iplinuae2020', 'indices': [136, 149]}, {'text': 'dcvsrcb', 'indices': [150, 158]}, {'text': 'dc', 'indices': [159, 162]}, {'text': 'rcb', 'indices': [163, 167]}, {'text': 'crickett20', 'indices': [168, 179]}, {'text': 'cricket', 'indices': [180, 188]}, {'text': '2020cricket', 'indices': [190, 202]}, {'text': 'crickett20match', 'indices': [203, 219]}, {'text': 'shreyasiyer', 'indices': [220, 232]}, {'text': 'viratkohli', 'indices': [233, 244]}, {'text': 'win', 'indices': [245, 249]}, {'text': 'winning', 'indices': [250, 258]}, {'text': 'congratulations', 'indices': [259, 275]}, {'text': 'uae', 'indices': [277, 281]}], 'symbols': [], 'user_mentions': [], 'urls': [], 'media': [{'id': 1323320277875372033, 'id_str': '1323320277875372033', 'indices': [284, 307], 'media_url': 'http://pbs.twimg.com/media/El1gyA7VMAEoj7a.jpg', 'media_url_https': 'https://pbs.twimg.com/media/El1gyA7VMAEoj7a.jpg', 'url': 'https://t.co/6aEHVrWf90', 'display_url': 'pic.twitter.com/6aEHVrWf90', 'expanded_url': 'https://twitter.com/Booster99_India/status/1323320281205649408/photo/1', 'type': 'photo', 'sizes': {'large': {'w': 1080, 'h': 1080, 'resize': 'fit'}, 'thumb': {'w': 150, 'h': 150, 'resize': 'crop'}, 'small': {'w': 680, 'h': 680, 'resize': 'fit'}, 'medium': {'w': 1080, 'h': 1080, 'resize': 'fit'}}}]}, 'extended_entities': {'media': [{'id': 1323320277875372033, 'id_str': '1323320277875372033', 'indices': [284, 307], 'media_url': 'http://pbs.twimg.com/media/El1gyA7VMAEoj7a.jpg', 'media_url_https': 'https://pbs.twimg.com/media/El1gyA7VMAEoj7a.jpg', 'url': 'https://t.co/6aEHVrWf90', 'display_url': 'pic.twitter.com/6aEHVrWf90', 'expanded_url': 'https://twitter.com/Booster99_India/status/1323320281205649408/photo/1', 'type': 'photo', 'sizes': {'large': {'w': 1080, 'h': 1080, 'resize': 'fit'}, 'thumb': {'w': 150, 'h': 150, 'resize': 'crop'}, 'small': {'w': 680, 'h': 680, 'resize': 'fit'}, 'medium': {'w': 1080, 'h': 1080, 'resize': 'fit'}}}]}, 'metadata': {'iso_language_code': 'en', 'result_type': 'recent'}, 'source': '<a href=\"http://twitter.com/download/android\" rel=\"nofollow\">Twitter for Android</a>', 'in_reply_to_status_id': None, 'in_reply_to_status_id_str': None, 'in_reply_to_user_id': None, 'in_reply_to_user_id_str': None, 'in_reply_to_screen_name': None, 'user': {'id': 1309467367294951426, 'id_str': '1309467367294951426', 'name': 'Booster99 India', 'screen_name': 'Booster99_India', 'location': '', 'description': 'Ready to make Big Bucks .\\nhttps://t.co/bTGYdOMYmq', 'url': None, 'entities': {'description': {'urls': [{'url': 'https://t.co/bTGYdOMYmq', 'expanded_url': 'https://www.booster99.in/register?apbtag=7f9bb4d5-70f5-4d59-aaca-2c7e7018730c', 'display_url': 'booster99.in/register?apbta…', 'indices': [26, 49]}]}}, 'protected': False, 'followers_count': 13, 'friends_count': 44, 'listed_count': 0, 'created_at': 'Fri Sep 25 12:19:02 +0000 2020', 'favourites_count': 114, 'utc_offset': None, 'time_zone': None, 'geo_enabled': False, 'verified': False, 'statuses_count': 330, 'lang': None, 'contributors_enabled': False, 'is_translator': False, 'is_translation_enabled': False, 'profile_background_color': 'F5F8FA', 'profile_background_image_url': None, 'profile_background_image_url_https': None, 'profile_background_tile': False, 'profile_image_url': 'http://pbs.twimg.com/profile_images/1310906937651855362/TbeoPaJa_normal.jpg', 'profile_image_url_https': 'https://pbs.twimg.com/profile_images/1310906937651855362/TbeoPaJa_normal.jpg', 'profile_banner_url': 'https://pbs.twimg.com/profile_banners/1309467367294951426/1601390932', 'profile_link_color': '1DA1F2', 'profile_sidebar_border_color': 'C0DEED', 'profile_sidebar_fill_color': 'DDEEF6', 'profile_text_color': '333333', 'profile_use_background_image': True, 'has_extended_profile': True, 'default_profile': True, 'default_profile_image': False, 'following': False, 'follow_request_sent': False, 'notifications': False, 'translator_type': 'none'}, 'geo': None, 'coordinates': None, 'place': None, 'contributors': None, 'is_quote_status': False, 'retweet_count': 0, 'favorite_count': 2, 'favorited': False, 'retweeted': False, 'possibly_sensitive': False, 'lang': 'en'}, created_at=datetime.datetime(2020, 11, 2, 17, 45, 15), id=1323320281205649408, id_str='1323320281205649408', full_text='Delhi Capitals Win &amp; Book the No.2 Spot.\\nJust Play &amp; Win on Booster99.\\n#Booster99 #booster99india #IPL #IPL2020 #iplt20 #iplcup #iplinuae2020 #dcvsrcb #dc #rcb #crickett20 #cricket🏏 #2020cricket #crickett20match #shreyasiyer #viratkohli #win #winning #congratulations🎉 #uae🇦🇪 https://t.co/6aEHVrWf90', truncated=False, display_text_range=[0, 283], entities={'hashtags': [{'text': 'Booster99', 'indices': [79, 89]}, {'text': 'booster99india', 'indices': [90, 105]}, {'text': 'IPL', 'indices': [106, 110]}, {'text': 'IPL2020', 'indices': [111, 119]}, {'text': 'iplt20', 'indices': [120, 127]}, {'text': 'iplcup', 'indices': [128, 135]}, {'text': 'iplinuae2020', 'indices': [136, 149]}, {'text': 'dcvsrcb', 'indices': [150, 158]}, {'text': 'dc', 'indices': [159, 162]}, {'text': 'rcb', 'indices': [163, 167]}, {'text': 'crickett20', 'indices': [168, 179]}, {'text': 'cricket', 'indices': [180, 188]}, {'text': '2020cricket', 'indices': [190, 202]}, {'text': 'crickett20match', 'indices': [203, 219]}, {'text': 'shreyasiyer', 'indices': [220, 232]}, {'text': 'viratkohli', 'indices': [233, 244]}, {'text': 'win', 'indices': [245, 249]}, {'text': 'winning', 'indices': [250, 258]}, {'text': 'congratulations', 'indices': [259, 275]}, {'text': 'uae', 'indices': [277, 281]}], 'symbols': [], 'user_mentions': [], 'urls': [], 'media': [{'id': 1323320277875372033, 'id_str': '1323320277875372033', 'indices': [284, 307], 'media_url': 'http://pbs.twimg.com/media/El1gyA7VMAEoj7a.jpg', 'media_url_https': 'https://pbs.twimg.com/media/El1gyA7VMAEoj7a.jpg', 'url': 'https://t.co/6aEHVrWf90', 'display_url': 'pic.twitter.com/6aEHVrWf90', 'expanded_url': 'https://twitter.com/Booster99_India/status/1323320281205649408/photo/1', 'type': 'photo', 'sizes': {'large': {'w': 1080, 'h': 1080, 'resize': 'fit'}, 'thumb': {'w': 150, 'h': 150, 'resize': 'crop'}, 'small': {'w': 680, 'h': 680, 'resize': 'fit'}, 'medium': {'w': 1080, 'h': 1080, 'resize': 'fit'}}}]}, extended_entities={'media': [{'id': 1323320277875372033, 'id_str': '1323320277875372033', 'indices': [284, 307], 'media_url': 'http://pbs.twimg.com/media/El1gyA7VMAEoj7a.jpg', 'media_url_https': 'https://pbs.twimg.com/media/El1gyA7VMAEoj7a.jpg', 'url': 'https://t.co/6aEHVrWf90', 'display_url': 'pic.twitter.com/6aEHVrWf90', 'expanded_url': 'https://twitter.com/Booster99_India/status/1323320281205649408/photo/1', 'type': 'photo', 'sizes': {'large': {'w': 1080, 'h': 1080, 'resize': 'fit'}, 'thumb': {'w': 150, 'h': 150, 'resize': 'crop'}, 'small': {'w': 680, 'h': 680, 'resize': 'fit'}, 'medium': {'w': 1080, 'h': 1080, 'resize': 'fit'}}}]}, metadata={'iso_language_code': 'en', 'result_type': 'recent'}, source='Twitter for Android', source_url='http://twitter.com/download/android', in_reply_to_status_id=None, in_reply_to_status_id_str=None, in_reply_to_user_id=None, in_reply_to_user_id_str=None, in_reply_to_screen_name=None, author=User(_api=<tweepy.api.API object at 0x0000015AE2874088>, _json={'id': 1309467367294951426, 'id_str': '1309467367294951426', 'name': 'Booster99 India', 'screen_name': 'Booster99_India', 'location': '', 'description': 'Ready to make Big Bucks .\\nhttps://t.co/bTGYdOMYmq', 'url': None, 'entities': {'description': {'urls': [{'url': 'https://t.co/bTGYdOMYmq', 'expanded_url': 'https://www.booster99.in/register?apbtag=7f9bb4d5-70f5-4d59-aaca-2c7e7018730c', 'display_url': 'booster99.in/register?apbta…', 'indices': [26, 49]}]}}, 'protected': False, 'followers_count': 13, 'friends_count': 44, 'listed_count': 0, 'created_at': 'Fri Sep 25 12:19:02 +0000 2020', 'favourites_count': 114, 'utc_offset': None, 'time_zone': None, 'geo_enabled': False, 'verified': False, 'statuses_count': 330, 'lang': None, 'contributors_enabled': False, 'is_translator': False, 'is_translation_enabled': False, 'profile_background_color': 'F5F8FA', 'profile_background_image_url': None, 'profile_background_image_url_https': None, 'profile_background_tile': False, 'profile_image_url': 'http://pbs.twimg.com/profile_images/1310906937651855362/TbeoPaJa_normal.jpg', 'profile_image_url_https': 'https://pbs.twimg.com/profile_images/1310906937651855362/TbeoPaJa_normal.jpg', 'profile_banner_url': 'https://pbs.twimg.com/profile_banners/1309467367294951426/1601390932', 'profile_link_color': '1DA1F2', 'profile_sidebar_border_color': 'C0DEED', 'profile_sidebar_fill_color': 'DDEEF6', 'profile_text_color': '333333', 'profile_use_background_image': True, 'has_extended_profile': True, 'default_profile': True, 'default_profile_image': False, 'following': False, 'follow_request_sent': False, 'notifications': False, 'translator_type': 'none'}, id=1309467367294951426, id_str='1309467367294951426', name='Booster99 India', screen_name='Booster99_India', location='', description='Ready to make Big Bucks .\\nhttps://t.co/bTGYdOMYmq', url=None, entities={'description': {'urls': [{'url': 'https://t.co/bTGYdOMYmq', 'expanded_url': 'https://www.booster99.in/register?apbtag=7f9bb4d5-70f5-4d59-aaca-2c7e7018730c', 'display_url': 'booster99.in/register?apbta…', 'indices': [26, 49]}]}}, protected=False, followers_count=13, friends_count=44, listed_count=0, created_at=datetime.datetime(2020, 9, 25, 12, 19, 2), favourites_count=114, utc_offset=None, time_zone=None, geo_enabled=False, verified=False, statuses_count=330, lang=None, contributors_enabled=False, is_translator=False, is_translation_enabled=False, profile_background_color='F5F8FA', profile_background_image_url=None, profile_background_image_url_https=None, profile_background_tile=False, profile_image_url='http://pbs.twimg.com/profile_images/1310906937651855362/TbeoPaJa_normal.jpg', profile_image_url_https='https://pbs.twimg.com/profile_images/1310906937651855362/TbeoPaJa_normal.jpg', profile_banner_url='https://pbs.twimg.com/profile_banners/1309467367294951426/1601390932', profile_link_color='1DA1F2', profile_sidebar_border_color='C0DEED', profile_sidebar_fill_color='DDEEF6', profile_text_color='333333', profile_use_background_image=True, has_extended_profile=True, default_profile=True, default_profile_image=False, following=False, follow_request_sent=False, notifications=False, translator_type='none'), user=User(_api=<tweepy.api.API object at 0x0000015AE2874088>, _json={'id': 1309467367294951426, 'id_str': '1309467367294951426', 'name': 'Booster99 India', 'screen_name': 'Booster99_India', 'location': '', 'description': 'Ready to make Big Bucks .\\nhttps://t.co/bTGYdOMYmq', 'url': None, 'entities': {'description': {'urls': [{'url': 'https://t.co/bTGYdOMYmq', 'expanded_url': 'https://www.booster99.in/register?apbtag=7f9bb4d5-70f5-4d59-aaca-2c7e7018730c', 'display_url': 'booster99.in/register?apbta…', 'indices': [26, 49]}]}}, 'protected': False, 'followers_count': 13, 'friends_count': 44, 'listed_count': 0, 'created_at': 'Fri Sep 25 12:19:02 +0000 2020', 'favourites_count': 114, 'utc_offset': None, 'time_zone': None, 'geo_enabled': False, 'verified': False, 'statuses_count': 330, 'lang': None, 'contributors_enabled': False, 'is_translator': False, 'is_translation_enabled': False, 'profile_background_color': 'F5F8FA', 'profile_background_image_url': None, 'profile_background_image_url_https': None, 'profile_background_tile': False, 'profile_image_url': 'http://pbs.twimg.com/profile_images/1310906937651855362/TbeoPaJa_normal.jpg', 'profile_image_url_https': 'https://pbs.twimg.com/profile_images/1310906937651855362/TbeoPaJa_normal.jpg', 'profile_banner_url': 'https://pbs.twimg.com/profile_banners/1309467367294951426/1601390932', 'profile_link_color': '1DA1F2', 'profile_sidebar_border_color': 'C0DEED', 'profile_sidebar_fill_color': 'DDEEF6', 'profile_text_color': '333333', 'profile_use_background_image': True, 'has_extended_profile': True, 'default_profile': True, 'default_profile_image': False, 'following': False, 'follow_request_sent': False, 'notifications': False, 'translator_type': 'none'}, id=1309467367294951426, id_str='1309467367294951426', name='Booster99 India', screen_name='Booster99_India', location='', description='Ready to make Big Bucks .\\nhttps://t.co/bTGYdOMYmq', url=None, entities={'description': {'urls': [{'url': 'https://t.co/bTGYdOMYmq', 'expanded_url': 'https://www.booster99.in/register?apbtag=7f9bb4d5-70f5-4d59-aaca-2c7e7018730c', 'display_url': 'booster99.in/register?apbta…', 'indices': [26, 49]}]}}, protected=False, followers_count=13, friends_count=44, listed_count=0, created_at=datetime.datetime(2020, 9, 25, 12, 19, 2), favourites_count=114, utc_offset=None, time_zone=None, geo_enabled=False, verified=False, statuses_count=330, lang=None, contributors_enabled=False, is_translator=False, is_translation_enabled=False, profile_background_color='F5F8FA', profile_background_image_url=None, profile_background_image_url_https=None, profile_background_tile=False, profile_image_url='http://pbs.twimg.com/profile_images/1310906937651855362/TbeoPaJa_normal.jpg', profile_image_url_https='https://pbs.twimg.com/profile_images/1310906937651855362/TbeoPaJa_normal.jpg', profile_banner_url='https://pbs.twimg.com/profile_banners/1309467367294951426/1601390932', profile_link_color='1DA1F2', profile_sidebar_border_color='C0DEED', profile_sidebar_fill_color='DDEEF6', profile_text_color='333333', profile_use_background_image=True, has_extended_profile=True, default_profile=True, default_profile_image=False, following=False, follow_request_sent=False, notifications=False, translator_type='none'), geo=None, coordinates=None, place=None, contributors=None, is_quote_status=False, retweet_count=0, favorite_count=2, favorited=False, retweeted=False, possibly_sensitive=False, lang='en') \n",
      "\n",
      ".....................................\n",
      "\n"
     ]
    }
   ],
   "source": [
    "Tweets = api.search( query , count=10 , lang='en' , exclude='retweets' , tweet_mode='extended' )\n",
    "\n",
    "\n",
    "for tweet in Tweets:\n",
    "    print(tweet,\"\\n\")\n",
    "    print(\".....................................\\n\")"
   ]
  },
  {
   "cell_type": "code",
   "execution_count": 10,
   "metadata": {},
   "outputs": [
    {
     "name": "stdout",
     "output_type": "stream",
     "text": [
      "Empty DataFrame\n",
      "Columns: [Tweets, User, User_statuses_count, user_followers, User_location, User_verified, fav_count, rt_count, tweet_date]\n",
      "Index: []\n"
     ]
    }
   ],
   "source": [
    "df = pd.DataFrame(columns = ['Tweets' , 'User' , 'User_statuses_count' , \n",
    "                            'user_followers' , 'User_location' , 'User_verified' ,\n",
    "                            'fav_count' , 'rt_count' , 'tweet_date'] )\n",
    "print(df)\n"
   ]
  },
  {
   "cell_type": "code",
   "execution_count": 11,
   "metadata": {},
   "outputs": [],
   "source": [
    "def stream(data, file_name):\n",
    "    i = 0\n",
    "    for tweet in tweepy.Cursor(api.search, q=data, count=100, lang='en').items():\n",
    "        print(i, end='\\r')\n",
    "        df.loc[i, 'Tweets'] = tweet.text\n",
    "        df.loc[i, 'User'] = tweet.user.name\n",
    "        df.loc[i, 'User_statuses_count'] = tweet.user.statuses_count\n",
    "        df.loc[i, 'user_followers'] = tweet.user.followers_count\n",
    "        df.loc[i, 'User_location'] = tweet.user.location\n",
    "        df.loc[i, 'User_verified'] = tweet.user.verified\n",
    "        df.loc[i, 'fav_count'] = tweet.favorite_count\n",
    "        df.loc[i, 'rt_count'] = tweet.retweet_count\n",
    "        df.loc[i, 'tweet_date'] = tweet.created_at\n",
    "        df.to_excel('{}.xlsx'.format(file_name))\n",
    "        i = i+1\n",
    "        if i == 1000:\n",
    "            break\n",
    "        else:\n",
    "            pass"
   ]
  },
  {
   "cell_type": "code",
   "execution_count": 12,
   "metadata": {},
   "outputs": [
    {
     "name": "stdout",
     "output_type": "stream",
     "text": [
      "299\r"
     ]
    }
   ],
   "source": [
    "stream(data=[\"DC winning IPl\"] , file_name='my_tweets')"
   ]
  },
  {
   "cell_type": "code",
   "execution_count": 13,
   "metadata": {},
   "outputs": [
    {
     "data": {
      "text/html": [
       "<div>\n",
       "<style scoped>\n",
       "    .dataframe tbody tr th:only-of-type {\n",
       "        vertical-align: middle;\n",
       "    }\n",
       "\n",
       "    .dataframe tbody tr th {\n",
       "        vertical-align: top;\n",
       "    }\n",
       "\n",
       "    .dataframe thead th {\n",
       "        text-align: right;\n",
       "    }\n",
       "</style>\n",
       "<table border=\"1\" class=\"dataframe\">\n",
       "  <thead>\n",
       "    <tr style=\"text-align: right;\">\n",
       "      <th></th>\n",
       "      <th>Tweets</th>\n",
       "      <th>User</th>\n",
       "      <th>User_statuses_count</th>\n",
       "      <th>user_followers</th>\n",
       "      <th>User_location</th>\n",
       "      <th>User_verified</th>\n",
       "      <th>fav_count</th>\n",
       "      <th>rt_count</th>\n",
       "      <th>tweet_date</th>\n",
       "    </tr>\n",
       "  </thead>\n",
       "  <tbody>\n",
       "    <tr>\n",
       "      <th>0</th>\n",
       "      <td>RT @imvashukrishna: In IPL History DC has the ...</td>\n",
       "      <td>addy_ink ✍</td>\n",
       "      <td>94</td>\n",
       "      <td>15</td>\n",
       "      <td></td>\n",
       "      <td>False</td>\n",
       "      <td>0</td>\n",
       "      <td>2</td>\n",
       "      <td>2020-11-03 14:22:47</td>\n",
       "    </tr>\n",
       "    <tr>\n",
       "      <th>1</th>\n",
       "      <td>RT @imvashukrishna: In IPL History DC has the ...</td>\n",
       "      <td>dr.memer🖤/ 〽️⛎$K🅰️♌ stan acc 👌</td>\n",
       "      <td>15235</td>\n",
       "      <td>3383</td>\n",
       "      <td>Gujarat, India</td>\n",
       "      <td>False</td>\n",
       "      <td>0</td>\n",
       "      <td>2</td>\n",
       "      <td>2020-11-03 14:13:11</td>\n",
       "    </tr>\n",
       "    <tr>\n",
       "      <th>2</th>\n",
       "      <td>In IPL History DC has the worst winning percen...</td>\n",
       "      <td>Frustrated Krishna ( a senseless emoji )</td>\n",
       "      <td>10734</td>\n",
       "      <td>224</td>\n",
       "      <td>Mars 🛸</td>\n",
       "      <td>False</td>\n",
       "      <td>5</td>\n",
       "      <td>2</td>\n",
       "      <td>2020-11-03 14:02:19</td>\n",
       "    </tr>\n",
       "    <tr>\n",
       "      <th>3</th>\n",
       "      <td>Rcb thrashed kkr twice this season, mumbai has...</td>\n",
       "      <td>Ayush Rungta7️⃣</td>\n",
       "      <td>5426</td>\n",
       "      <td>168</td>\n",
       "      <td>Agra, India</td>\n",
       "      <td>False</td>\n",
       "      <td>2</td>\n",
       "      <td>0</td>\n",
       "      <td>2020-11-03 08:30:28</td>\n",
       "    </tr>\n",
       "    <tr>\n",
       "      <th>4</th>\n",
       "      <td>@IPL @DelhiCapitals @SDhawan25 @ajinkyarahane8...</td>\n",
       "      <td>Aditya Singh Rawat</td>\n",
       "      <td>2546</td>\n",
       "      <td>183</td>\n",
       "      <td>Mumbai, India</td>\n",
       "      <td>False</td>\n",
       "      <td>3</td>\n",
       "      <td>0</td>\n",
       "      <td>2020-11-03 07:38:17</td>\n",
       "    </tr>\n",
       "  </tbody>\n",
       "</table>\n",
       "</div>"
      ],
      "text/plain": [
       "                                              Tweets  \\\n",
       "0  RT @imvashukrishna: In IPL History DC has the ...   \n",
       "1  RT @imvashukrishna: In IPL History DC has the ...   \n",
       "2  In IPL History DC has the worst winning percen...   \n",
       "3  Rcb thrashed kkr twice this season, mumbai has...   \n",
       "4  @IPL @DelhiCapitals @SDhawan25 @ajinkyarahane8...   \n",
       "\n",
       "                                       User User_statuses_count  \\\n",
       "0                                addy_ink ✍                  94   \n",
       "1            dr.memer🖤/ 〽️⛎$K🅰️♌ stan acc 👌               15235   \n",
       "2  Frustrated Krishna ( a senseless emoji )               10734   \n",
       "3                           Ayush Rungta7️⃣                5426   \n",
       "4                        Aditya Singh Rawat                2546   \n",
       "\n",
       "  user_followers   User_location User_verified fav_count rt_count  \\\n",
       "0             15                         False         0        2   \n",
       "1           3383  Gujarat, India         False         0        2   \n",
       "2            224          Mars 🛸         False         5        2   \n",
       "3            168     Agra, India         False         2        0   \n",
       "4            183   Mumbai, India         False         3        0   \n",
       "\n",
       "            tweet_date  \n",
       "0  2020-11-03 14:22:47  \n",
       "1  2020-11-03 14:13:11  \n",
       "2  2020-11-03 14:02:19  \n",
       "3  2020-11-03 08:30:28  \n",
       "4  2020-11-03 07:38:17  "
      ]
     },
     "execution_count": 13,
     "metadata": {},
     "output_type": "execute_result"
    }
   ],
   "source": [
    "df.head()"
   ]
  },
  {
   "cell_type": "code",
   "execution_count": 14,
   "metadata": {},
   "outputs": [
    {
     "name": "stdout",
     "output_type": "stream",
     "text": [
      "Collecting textblob\n",
      "  Downloading textblob-0.15.3-py2.py3-none-any.whl (636 kB)\n",
      "Requirement already satisfied: nltk>=3.1 in c:\\programdata\\anaconda3\\lib\\site-packages (from textblob) (3.4.5)\n",
      "Requirement already satisfied: six in c:\\programdata\\anaconda3\\lib\\site-packages (from nltk>=3.1->textblob) (1.14.0)\n",
      "Installing collected packages: textblob\n",
      "Successfully installed textblob-0.15.3\n"
     ]
    }
   ],
   "source": [
    "!pip install textblob"
   ]
  },
  {
   "cell_type": "code",
   "execution_count": 15,
   "metadata": {},
   "outputs": [],
   "source": [
    "from textblob import TextBlob"
   ]
  },
  {
   "cell_type": "code",
   "execution_count": 16,
   "metadata": {},
   "outputs": [],
   "source": [
    "import re\n",
    "def clean_tweet(tweet):\n",
    "    return ' '.join(re.sub('(@[A-Za-z0-9]+)|([^0-9A-Za-z \\t])|(\\w+:\\/\\/\\S+)', ' ', tweet).split())"
   ]
  },
  {
   "cell_type": "code",
   "execution_count": 17,
   "metadata": {},
   "outputs": [],
   "source": [
    "def analyze_sentiment(tweet):\n",
    "    analysis = TextBlob(tweet)\n",
    "    if analysis.sentiment.polarity > 0:\n",
    "        return 'Positive'\n",
    "    elif analysis.sentiment.polarity == 0:\n",
    "        return 'Neutral'\n",
    "    else:\n",
    "        return 'Negative'"
   ]
  },
  {
   "cell_type": "code",
   "execution_count": 18,
   "metadata": {},
   "outputs": [],
   "source": [
    "df['clean_tweet'] = df['Tweets'].apply(lambda x : clean_tweet(x))"
   ]
  },
  {
   "cell_type": "code",
   "execution_count": 19,
   "metadata": {},
   "outputs": [
    {
     "data": {
      "text/html": [
       "<div>\n",
       "<style scoped>\n",
       "    .dataframe tbody tr th:only-of-type {\n",
       "        vertical-align: middle;\n",
       "    }\n",
       "\n",
       "    .dataframe tbody tr th {\n",
       "        vertical-align: top;\n",
       "    }\n",
       "\n",
       "    .dataframe thead th {\n",
       "        text-align: right;\n",
       "    }\n",
       "</style>\n",
       "<table border=\"1\" class=\"dataframe\">\n",
       "  <thead>\n",
       "    <tr style=\"text-align: right;\">\n",
       "      <th></th>\n",
       "      <th>Tweets</th>\n",
       "      <th>User</th>\n",
       "      <th>User_statuses_count</th>\n",
       "      <th>user_followers</th>\n",
       "      <th>User_location</th>\n",
       "      <th>User_verified</th>\n",
       "      <th>fav_count</th>\n",
       "      <th>rt_count</th>\n",
       "      <th>tweet_date</th>\n",
       "      <th>clean_tweet</th>\n",
       "    </tr>\n",
       "  </thead>\n",
       "  <tbody>\n",
       "    <tr>\n",
       "      <th>0</th>\n",
       "      <td>RT @imvashukrishna: In IPL History DC has the ...</td>\n",
       "      <td>addy_ink ✍</td>\n",
       "      <td>94</td>\n",
       "      <td>15</td>\n",
       "      <td></td>\n",
       "      <td>False</td>\n",
       "      <td>0</td>\n",
       "      <td>2</td>\n",
       "      <td>2020-11-03 14:22:47</td>\n",
       "      <td>RT In IPL History DC has the worst winning per...</td>\n",
       "    </tr>\n",
       "    <tr>\n",
       "      <th>1</th>\n",
       "      <td>RT @imvashukrishna: In IPL History DC has the ...</td>\n",
       "      <td>dr.memer🖤/ 〽️⛎$K🅰️♌ stan acc 👌</td>\n",
       "      <td>15235</td>\n",
       "      <td>3383</td>\n",
       "      <td>Gujarat, India</td>\n",
       "      <td>False</td>\n",
       "      <td>0</td>\n",
       "      <td>2</td>\n",
       "      <td>2020-11-03 14:13:11</td>\n",
       "      <td>RT In IPL History DC has the worst winning per...</td>\n",
       "    </tr>\n",
       "    <tr>\n",
       "      <th>2</th>\n",
       "      <td>In IPL History DC has the worst winning percen...</td>\n",
       "      <td>Frustrated Krishna ( a senseless emoji )</td>\n",
       "      <td>10734</td>\n",
       "      <td>224</td>\n",
       "      <td>Mars 🛸</td>\n",
       "      <td>False</td>\n",
       "      <td>5</td>\n",
       "      <td>2</td>\n",
       "      <td>2020-11-03 14:02:19</td>\n",
       "      <td>In IPL History DC has the worst winning percen...</td>\n",
       "    </tr>\n",
       "    <tr>\n",
       "      <th>3</th>\n",
       "      <td>Rcb thrashed kkr twice this season, mumbai has...</td>\n",
       "      <td>Ayush Rungta7️⃣</td>\n",
       "      <td>5426</td>\n",
       "      <td>168</td>\n",
       "      <td>Agra, India</td>\n",
       "      <td>False</td>\n",
       "      <td>2</td>\n",
       "      <td>0</td>\n",
       "      <td>2020-11-03 08:30:28</td>\n",
       "      <td>Rcb thrashed kkr twice this season mumbai has ...</td>\n",
       "    </tr>\n",
       "    <tr>\n",
       "      <th>4</th>\n",
       "      <td>@IPL @DelhiCapitals @SDhawan25 @ajinkyarahane8...</td>\n",
       "      <td>Aditya Singh Rawat</td>\n",
       "      <td>2546</td>\n",
       "      <td>183</td>\n",
       "      <td>Mumbai, India</td>\n",
       "      <td>False</td>\n",
       "      <td>3</td>\n",
       "      <td>0</td>\n",
       "      <td>2020-11-03 07:38:17</td>\n",
       "      <td>DC always does a good job at bowling it was th...</td>\n",
       "    </tr>\n",
       "  </tbody>\n",
       "</table>\n",
       "</div>"
      ],
      "text/plain": [
       "                                              Tweets  \\\n",
       "0  RT @imvashukrishna: In IPL History DC has the ...   \n",
       "1  RT @imvashukrishna: In IPL History DC has the ...   \n",
       "2  In IPL History DC has the worst winning percen...   \n",
       "3  Rcb thrashed kkr twice this season, mumbai has...   \n",
       "4  @IPL @DelhiCapitals @SDhawan25 @ajinkyarahane8...   \n",
       "\n",
       "                                       User User_statuses_count  \\\n",
       "0                                addy_ink ✍                  94   \n",
       "1            dr.memer🖤/ 〽️⛎$K🅰️♌ stan acc 👌               15235   \n",
       "2  Frustrated Krishna ( a senseless emoji )               10734   \n",
       "3                           Ayush Rungta7️⃣                5426   \n",
       "4                        Aditya Singh Rawat                2546   \n",
       "\n",
       "  user_followers   User_location User_verified fav_count rt_count  \\\n",
       "0             15                         False         0        2   \n",
       "1           3383  Gujarat, India         False         0        2   \n",
       "2            224          Mars 🛸         False         5        2   \n",
       "3            168     Agra, India         False         2        0   \n",
       "4            183   Mumbai, India         False         3        0   \n",
       "\n",
       "            tweet_date                                        clean_tweet  \n",
       "0  2020-11-03 14:22:47  RT In IPL History DC has the worst winning per...  \n",
       "1  2020-11-03 14:13:11  RT In IPL History DC has the worst winning per...  \n",
       "2  2020-11-03 14:02:19  In IPL History DC has the worst winning percen...  \n",
       "3  2020-11-03 08:30:28  Rcb thrashed kkr twice this season mumbai has ...  \n",
       "4  2020-11-03 07:38:17  DC always does a good job at bowling it was th...  "
      ]
     },
     "execution_count": 19,
     "metadata": {},
     "output_type": "execute_result"
    }
   ],
   "source": [
    "df.head()"
   ]
  },
  {
   "cell_type": "code",
   "execution_count": 20,
   "metadata": {},
   "outputs": [
    {
     "data": {
      "text/html": [
       "<div>\n",
       "<style scoped>\n",
       "    .dataframe tbody tr th:only-of-type {\n",
       "        vertical-align: middle;\n",
       "    }\n",
       "\n",
       "    .dataframe tbody tr th {\n",
       "        vertical-align: top;\n",
       "    }\n",
       "\n",
       "    .dataframe thead th {\n",
       "        text-align: right;\n",
       "    }\n",
       "</style>\n",
       "<table border=\"1\" class=\"dataframe\">\n",
       "  <thead>\n",
       "    <tr style=\"text-align: right;\">\n",
       "      <th></th>\n",
       "      <th>Tweets</th>\n",
       "      <th>User</th>\n",
       "      <th>User_statuses_count</th>\n",
       "      <th>user_followers</th>\n",
       "      <th>User_location</th>\n",
       "      <th>User_verified</th>\n",
       "      <th>fav_count</th>\n",
       "      <th>rt_count</th>\n",
       "      <th>tweet_date</th>\n",
       "      <th>clean_tweet</th>\n",
       "      <th>Sentiment</th>\n",
       "    </tr>\n",
       "  </thead>\n",
       "  <tbody>\n",
       "    <tr>\n",
       "      <th>0</th>\n",
       "      <td>RT @imvashukrishna: In IPL History DC has the ...</td>\n",
       "      <td>addy_ink ✍</td>\n",
       "      <td>94</td>\n",
       "      <td>15</td>\n",
       "      <td></td>\n",
       "      <td>False</td>\n",
       "      <td>0</td>\n",
       "      <td>2</td>\n",
       "      <td>2020-11-03 14:22:47</td>\n",
       "      <td>RT In IPL History DC has the worst winning per...</td>\n",
       "      <td>Negative</td>\n",
       "    </tr>\n",
       "    <tr>\n",
       "      <th>1</th>\n",
       "      <td>RT @imvashukrishna: In IPL History DC has the ...</td>\n",
       "      <td>dr.memer🖤/ 〽️⛎$K🅰️♌ stan acc 👌</td>\n",
       "      <td>15235</td>\n",
       "      <td>3383</td>\n",
       "      <td>Gujarat, India</td>\n",
       "      <td>False</td>\n",
       "      <td>0</td>\n",
       "      <td>2</td>\n",
       "      <td>2020-11-03 14:13:11</td>\n",
       "      <td>RT In IPL History DC has the worst winning per...</td>\n",
       "      <td>Negative</td>\n",
       "    </tr>\n",
       "    <tr>\n",
       "      <th>2</th>\n",
       "      <td>In IPL History DC has the worst winning percen...</td>\n",
       "      <td>Frustrated Krishna ( a senseless emoji )</td>\n",
       "      <td>10734</td>\n",
       "      <td>224</td>\n",
       "      <td>Mars 🛸</td>\n",
       "      <td>False</td>\n",
       "      <td>5</td>\n",
       "      <td>2</td>\n",
       "      <td>2020-11-03 14:02:19</td>\n",
       "      <td>In IPL History DC has the worst winning percen...</td>\n",
       "      <td>Negative</td>\n",
       "    </tr>\n",
       "    <tr>\n",
       "      <th>3</th>\n",
       "      <td>Rcb thrashed kkr twice this season, mumbai has...</td>\n",
       "      <td>Ayush Rungta7️⃣</td>\n",
       "      <td>5426</td>\n",
       "      <td>168</td>\n",
       "      <td>Agra, India</td>\n",
       "      <td>False</td>\n",
       "      <td>2</td>\n",
       "      <td>0</td>\n",
       "      <td>2020-11-03 08:30:28</td>\n",
       "      <td>Rcb thrashed kkr twice this season mumbai has ...</td>\n",
       "      <td>Positive</td>\n",
       "    </tr>\n",
       "    <tr>\n",
       "      <th>4</th>\n",
       "      <td>@IPL @DelhiCapitals @SDhawan25 @ajinkyarahane8...</td>\n",
       "      <td>Aditya Singh Rawat</td>\n",
       "      <td>2546</td>\n",
       "      <td>183</td>\n",
       "      <td>Mumbai, India</td>\n",
       "      <td>False</td>\n",
       "      <td>3</td>\n",
       "      <td>0</td>\n",
       "      <td>2020-11-03 07:38:17</td>\n",
       "      <td>DC always does a good job at bowling it was th...</td>\n",
       "      <td>Positive</td>\n",
       "    </tr>\n",
       "  </tbody>\n",
       "</table>\n",
       "</div>"
      ],
      "text/plain": [
       "                                              Tweets  \\\n",
       "0  RT @imvashukrishna: In IPL History DC has the ...   \n",
       "1  RT @imvashukrishna: In IPL History DC has the ...   \n",
       "2  In IPL History DC has the worst winning percen...   \n",
       "3  Rcb thrashed kkr twice this season, mumbai has...   \n",
       "4  @IPL @DelhiCapitals @SDhawan25 @ajinkyarahane8...   \n",
       "\n",
       "                                       User User_statuses_count  \\\n",
       "0                                addy_ink ✍                  94   \n",
       "1            dr.memer🖤/ 〽️⛎$K🅰️♌ stan acc 👌               15235   \n",
       "2  Frustrated Krishna ( a senseless emoji )               10734   \n",
       "3                           Ayush Rungta7️⃣                5426   \n",
       "4                        Aditya Singh Rawat                2546   \n",
       "\n",
       "  user_followers   User_location User_verified fav_count rt_count  \\\n",
       "0             15                         False         0        2   \n",
       "1           3383  Gujarat, India         False         0        2   \n",
       "2            224          Mars 🛸         False         5        2   \n",
       "3            168     Agra, India         False         2        0   \n",
       "4            183   Mumbai, India         False         3        0   \n",
       "\n",
       "            tweet_date                                        clean_tweet  \\\n",
       "0  2020-11-03 14:22:47  RT In IPL History DC has the worst winning per...   \n",
       "1  2020-11-03 14:13:11  RT In IPL History DC has the worst winning per...   \n",
       "2  2020-11-03 14:02:19  In IPL History DC has the worst winning percen...   \n",
       "3  2020-11-03 08:30:28  Rcb thrashed kkr twice this season mumbai has ...   \n",
       "4  2020-11-03 07:38:17  DC always does a good job at bowling it was th...   \n",
       "\n",
       "  Sentiment  \n",
       "0  Negative  \n",
       "1  Negative  \n",
       "2  Negative  \n",
       "3  Positive  \n",
       "4  Positive  "
      ]
     },
     "execution_count": 20,
     "metadata": {},
     "output_type": "execute_result"
    }
   ],
   "source": [
    "df['Sentiment'] = df['clean_tweet'].apply(lambda x : analyze_sentiment(x) )\n",
    "df.head()"
   ]
  },
  {
   "cell_type": "code",
   "execution_count": 21,
   "metadata": {},
   "outputs": [
    {
     "name": "stdout",
     "output_type": "stream",
     "text": [
      "Original tweet:\n",
      " RT @imvashukrishna: In IPL History DC has the worst winning percentage if we exclude the teams which no longer exists. \n",
      "\n",
      "and if we include…\n",
      "\n",
      "Clean tweet:\n",
      " RT In IPL History DC has the worst winning percentage if we exclude the teams which no longer exists and if we include\n",
      "\n",
      "Sentiment of the tweet:\n",
      " Negative\n"
     ]
    }
   ],
   "source": [
    "n = 1\n",
    "print(\"Original tweet:\\n\",df['Tweets'][n])\n",
    "print()\n",
    "print(\"Clean tweet:\\n\",df['clean_tweet'][n])\n",
    "print()\n",
    "print(\"Sentiment of the tweet:\\n\",df['Sentiment'][n])"
   ]
  },
  {
   "cell_type": "code",
   "execution_count": 24,
   "metadata": {},
   "outputs": [
    {
     "name": "stdout",
     "output_type": "stream",
     "text": [
      "Original tweet:\n",
      " RT @ayshahabib11: All IPL fans what do you think who's winning the match today and thus qualifying for the playoffs ? \n",
      "\n",
      "DC or RCB ? \n",
      "\n",
      "Comme…\n",
      "\n",
      "Clean tweet:\n",
      " RT All IPL fans what do you think who s winning the match today and thus qualifying for the playoffs DC or RCB Comme\n",
      "\n",
      "Sentiment of the tweet:\n",
      " Positive\n"
     ]
    }
   ],
   "source": [
    "n = 70\n",
    "print(\"Original tweet:\\n\",df['Tweets'][n])\n",
    "print()\n",
    "print(\"Clean tweet:\\n\",df['clean_tweet'][n])\n",
    "print()\n",
    "print(\"Sentiment of the tweet:\\n\",df['Sentiment'][n])"
   ]
  },
  {
   "cell_type": "code",
   "execution_count": 28,
   "metadata": {},
   "outputs": [
    {
     "name": "stdout",
     "output_type": "stream",
     "text": [
      "Original tweet:\n",
      " #Mi is looking unbeatable \n",
      "Outplayig #Dc in every department of the game... A complete performance... I don't think… https://t.co/MIbCl8seKe\n",
      "\n",
      "Clean tweet:\n",
      " Mi is looking unbeatable Outplayig Dc in every department of the game A complete performance I don t think\n",
      "\n",
      "Sentiment of the tweet:\n",
      " Negative\n"
     ]
    }
   ],
   "source": [
    "n = 153\n",
    "print(\"Original tweet:\\n\",df['Tweets'][n])\n",
    "print()\n",
    "print(\"Clean tweet:\\n\",df['clean_tweet'][n])\n",
    "print()\n",
    "print(\"Sentiment of the tweet:\\n\",df['Sentiment'][n])"
   ]
  },
  {
   "cell_type": "code",
   "execution_count": 29,
   "metadata": {},
   "outputs": [
    {
     "data": {
      "text/plain": [
       "267"
      ]
     },
     "execution_count": 29,
     "metadata": {},
     "output_type": "execute_result"
    }
   ],
   "source": [
    "df[df.Sentiment == 'Positive'].shape[0]"
   ]
  },
  {
   "cell_type": "code",
   "execution_count": 30,
   "metadata": {},
   "outputs": [
    {
     "data": {
      "text/plain": [
       "14"
      ]
     },
     "execution_count": 30,
     "metadata": {},
     "output_type": "execute_result"
    }
   ],
   "source": [
    "df[df.Sentiment == 'Neutral'].shape[0]"
   ]
  },
  {
   "cell_type": "code",
   "execution_count": 31,
   "metadata": {},
   "outputs": [
    {
     "data": {
      "text/plain": [
       "19"
      ]
     },
     "execution_count": 31,
     "metadata": {},
     "output_type": "execute_result"
    }
   ],
   "source": [
    "df[df.Sentiment == 'Negative'].shape[0]"
   ]
  }
 ],
 "metadata": {
  "kernelspec": {
   "display_name": "Python 3",
   "language": "python",
   "name": "python3"
  },
  "language_info": {
   "codemirror_mode": {
    "name": "ipython",
    "version": 3
   },
   "file_extension": ".py",
   "mimetype": "text/x-python",
   "name": "python",
   "nbconvert_exporter": "python",
   "pygments_lexer": "ipython3",
   "version": "3.7.6"
  }
 },
 "nbformat": 4,
 "nbformat_minor": 4
}
